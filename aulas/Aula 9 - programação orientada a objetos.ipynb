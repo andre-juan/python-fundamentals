{
 "cells": [
  {
   "cell_type": "markdown",
   "metadata": {},
   "source": [
    "# Aula 9 - programação orientada a objetos\n",
    "\n",
    "Na aula de hoje, vamos explorar os seguintes tópicos em Python:\n",
    "\n",
    "\n",
    "- 1) Programação Orientada a Objetos;\n",
    "- 2) Classes, Atributos, Objetos e Métodos;\n",
    "- 3) Atributos e métodos estáticos;\n",
    "- 4) Métodos Mágicos;\n",
    "- 5) Herança e Polimorfismo.\n"
   ]
  },
  {
   "cell_type": "markdown",
   "metadata": {},
   "source": [
    "____\n",
    "____\n",
    "____"
   ]
  },
  {
   "cell_type": "markdown",
   "metadata": {},
   "source": [
    "## 1) Programação Orientada a Objetos\n",
    "\n",
    "O Python, como outras linguagens, é classificada como uma **linguagem de programação orientada a objetos (POO)** (outros exemplos: Java, C++, etc). \n",
    "\n",
    "Esta classificação é uma dos chamados \"paradigmas de programação\". Isso porque uma linguagem de POO é fundamentalmente diferente de linguagens de outros paradigmas.\n",
    "\n",
    "O grande objetivo da POO é a **reutilização de código**.\n",
    "\n",
    "Os programas devem ser **modularizados**, de modo que diferentes pessoas possam implementar módulos diferentes e juntá-los ao final, e reaporveitar modulos diferentes.\n",
    "\n",
    "Dentro de POO, tudo isso é feito de acordo com as seguintes **entidades**:\n",
    "\n",
    "- Classes\n",
    "\n",
    "> As classes são os \"moldes\" dos objetos, as entidades abstratas. Elas contêm as informações e os comportamentos que os objetos terão. Todos os objetos pertencentes a uma mesma classe terão características em comum. **Ex: Pessoa**\n",
    "\n",
    "- Objetos\n",
    "\n",
    "> Os objetos são as instâncias concretas das classes, que são abstratas. Os objetos contêm as características comuns à classe, mas cada um tem suas particularidades. **Ex: você!**\n",
    "\n",
    "\n",
    "- Atributos\n",
    "\n",
    "> Cada objeto particular de uma mesma classe tem valores diferentes para as variáveis internas da classe. Essas \"variáveis do objeto\" chamamos de atributos. **Ex: a cor do seu cabelo**\n",
    "\n",
    "- Métodos\n",
    "\n",
    "> Métodos são funções dentro da classe, que não podem ser executadas arbitrariamente, mas deverão ser chamadas necessariamente pelos objetos. Os métodos podem utilizar os atributos e até mesmo alterá-los. **Ex: você pintar seu cabelo para mudar a cor** \n",
    "\n",
    "\n",
    "Em POO, há **4 princípios de boas práticas** para a criação das entidades:\n",
    "\n",
    "- **Encapsulamento**: cada classe deve conter todas as informações necessárias para seu funcionamento bem como todos os métodos necessários para alterar essas informações.\n",
    "\n",
    "- **Abstração**: as classes devem apresentar interfaces simples para o uso por outros desenvolvedores e para a interação com outras classes. Todos os detalhes complicados de seu funcionamento devem estar \"escondidos\" dentro de métodos simples de usar, com parâmetros e retornos bem definidos. \n",
    "\n",
    "- **Herança**: se várias classes terão atributos e métodos em comum, não devemos ter que redigitá-los várias vezes. Ao invés disso, criamos uma classe com esses atributos comuns e as outras classes irão herdá-los.\n",
    "        \n",
    "- **Polimorfismo**: objetos de diferentes classes herdeiras de uma mesma classe mãe podem ser tratados genericamente como objetos pertencentes à classe mãe.\n",
    "\n",
    "Vamos agora a exemplos específicos para ilustrar e concretizar todos os conceitos discutidos acima!"
   ]
  },
  {
   "cell_type": "markdown",
   "metadata": {},
   "source": [
    "_____\n",
    "_____\n",
    "_____"
   ]
  },
  {
   "cell_type": "markdown",
   "metadata": {},
   "source": [
    "## 2) Classes, Atributos, Objetos e Métodos\n",
    "\n",
    "\n",
    "### Criando uma classe\n",
    "\n",
    "A criação de classes é feita segundo a seguinte estrutura:\n",
    "\n",
    "```python\n",
    "class nome_da_classe:\n",
    "    \n",
    "    # método construtor\n",
    "    def __init__(self, atributos)\n",
    "        \n",
    "        # definição dos atributos\n",
    "        self.atributos = atributos\n",
    "        \n",
    "    # definição de outros métodos\n",
    "    def metodo(self, parametros):\n",
    "        operacoes\n",
    "```\n",
    "\n",
    "O **método construtor** é onde inicializamos alguns atributos que os objetos da classe terão!\n",
    "\n",
    "Os argumentos deste método são **obrigatórios** para a definição do objeto!\n",
    "\n",
    "- Esse método é opcional, mas é uma boa prática sempre defini-lo!\n",
    "- Sempre que um objeto é criado, este método é chamado, automaticamente"
   ]
  },
  {
   "cell_type": "markdown",
   "metadata": {},
   "source": [
    "O **\"self\"** sempre será o primeiro parâmetro dos métodos de uma classe, e ele é necessário para **fazer referência à classe**\n",
    "\n",
    "Assim, em geral, sempre usaremos dentro dos métodos alguma operação que **faça uso dos atributos da classe**, que é referenciada através do `self`."
   ]
  },
  {
   "cell_type": "code",
   "execution_count": 1,
   "metadata": {},
   "outputs": [],
   "source": [
    "# definindo a classe \"pessoa\"\n",
    "class pessoa:\n",
    "    \n",
    "    # método construtor\n",
    "    # os parâmetros serão usados para a construção do objeto!\n",
    "    def __init__(self, name, age, residency):\n",
    "        \n",
    "        # alguns atributos construidos a partir dos parâmetros (obrigatórios)\n",
    "        self.nome = name\n",
    "        self.idade = age\n",
    "        self.residencia = residency"
   ]
  },
  {
   "cell_type": "markdown",
   "metadata": {},
   "source": [
    "### Criação de objeto: instanciando uma classe\n",
    "\n",
    "Para criarmos um objeto (instância concreta da classe abstrata), nós fazemos o processo de **instanciação**, que nada mais é do que **chamar a classe**, com os argumentos definidos no método construtor"
   ]
  },
  {
   "cell_type": "code",
   "execution_count": 2,
   "metadata": {},
   "outputs": [],
   "source": [
    "# instanciando\n",
    "eu = pessoa(\"Joãozinho\", \"32\", \"Mauá\")"
   ]
  },
  {
   "cell_type": "markdown",
   "metadata": {},
   "source": [
    "Se chamarmos a variável com o objeto, aparece apenas o endereço respectivo ao objeto:"
   ]
  },
  {
   "cell_type": "code",
   "execution_count": 3,
   "metadata": {},
   "outputs": [
    {
     "data": {
      "text/plain": [
       "<__main__.pessoa at 0x52a67c8>"
      ]
     },
     "execution_count": 3,
     "metadata": {},
     "output_type": "execute_result"
    }
   ],
   "source": [
    "eu"
   ]
  },
  {
   "cell_type": "markdown",
   "metadata": {},
   "source": [
    "Mas podemos acessar cada um dos atributos deste objeto, que são aqueles definidos na classe. \n",
    "\n",
    "Para isso, seguimos a sintaxe\n",
    "\n",
    "```python\n",
    "nome_do_objeto.nome_do_atributo\n",
    "```"
   ]
  },
  {
   "cell_type": "code",
   "execution_count": 4,
   "metadata": {},
   "outputs": [
    {
     "data": {
      "text/plain": [
       "'Joãozinho'"
      ]
     },
     "execution_count": 4,
     "metadata": {},
     "output_type": "execute_result"
    }
   ],
   "source": [
    "eu.nome"
   ]
  },
  {
   "cell_type": "code",
   "execution_count": 5,
   "metadata": {},
   "outputs": [
    {
     "data": {
      "text/plain": [
       "'Mauá'"
      ]
     },
     "execution_count": 5,
     "metadata": {},
     "output_type": "execute_result"
    }
   ],
   "source": [
    "eu.residencia"
   ]
  },
  {
   "cell_type": "code",
   "execution_count": 6,
   "metadata": {},
   "outputs": [
    {
     "data": {
      "text/plain": [
       "'32'"
      ]
     },
     "execution_count": 6,
     "metadata": {},
     "output_type": "execute_result"
    }
   ],
   "source": [
    "eu.idade"
   ]
  },
  {
   "cell_type": "markdown",
   "metadata": {},
   "source": [
    "Os atributos são mutáveis! Para mudá-los, basta redefinir novos valores:"
   ]
  },
  {
   "cell_type": "code",
   "execution_count": 7,
   "metadata": {},
   "outputs": [
    {
     "data": {
      "text/plain": [
       "'Mauá'"
      ]
     },
     "execution_count": 7,
     "metadata": {},
     "output_type": "execute_result"
    }
   ],
   "source": [
    "eu.residencia"
   ]
  },
  {
   "cell_type": "code",
   "execution_count": 8,
   "metadata": {},
   "outputs": [],
   "source": [
    "eu.residencia = \"Paris\""
   ]
  },
  {
   "cell_type": "code",
   "execution_count": 9,
   "metadata": {},
   "outputs": [
    {
     "data": {
      "text/plain": [
       "'Paris'"
      ]
     },
     "execution_count": 9,
     "metadata": {},
     "output_type": "execute_result"
    }
   ],
   "source": [
    "eu.residencia"
   ]
  },
  {
   "cell_type": "code",
   "execution_count": 10,
   "metadata": {},
   "outputs": [
    {
     "data": {
      "text/plain": [
       "33"
      ]
     },
     "execution_count": 10,
     "metadata": {},
     "output_type": "execute_result"
    }
   ],
   "source": [
    "eu.idade = 33\n",
    "\n",
    "eu.idade"
   ]
  },
  {
   "cell_type": "markdown",
   "metadata": {},
   "source": [
    "Podemos, também, adicionar novos atributos que não sejam **obrigatoriamente definidos na instanciação da classe**. Para isso, os inicializamos na classe como vazios:"
   ]
  },
  {
   "cell_type": "code",
   "execution_count": 11,
   "metadata": {},
   "outputs": [],
   "source": [
    "class pessoa:\n",
    "    \n",
    "    def __init__(self, nome, idade, residencia):\n",
    "        \n",
    "        self.nome = nome\n",
    "        self.idade = idade\n",
    "        self.residencia = residencia\n",
    "        \n",
    "        # podemos também definir alguns atributos vazios, para serem preenchidos depois\n",
    "        self.altura = \"\"\n",
    "        self.num_filhos = \"\"\n",
    "        self.peso = \"\""
   ]
  },
  {
   "cell_type": "code",
   "execution_count": 12,
   "metadata": {},
   "outputs": [],
   "source": [
    "# instanciando\n",
    "eu = pessoa(\"Joãozinho\", 32, \"Mauá\")"
   ]
  },
  {
   "cell_type": "code",
   "execution_count": 13,
   "metadata": {},
   "outputs": [
    {
     "data": {
      "text/plain": [
       "''"
      ]
     },
     "execution_count": 13,
     "metadata": {},
     "output_type": "execute_result"
    }
   ],
   "source": [
    "# acessando o atributo antes dele ser definido\n",
    "eu.altura"
   ]
  },
  {
   "cell_type": "code",
   "execution_count": 14,
   "metadata": {},
   "outputs": [],
   "source": [
    "# definindo um valor para o atributo\n",
    "eu.altura = 1.80"
   ]
  },
  {
   "cell_type": "code",
   "execution_count": 15,
   "metadata": {},
   "outputs": [
    {
     "data": {
      "text/plain": [
       "1.8"
      ]
     },
     "execution_count": 15,
     "metadata": {},
     "output_type": "execute_result"
    }
   ],
   "source": [
    "eu.altura"
   ]
  },
  {
   "cell_type": "markdown",
   "metadata": {},
   "source": [
    "### Métodos da classe: definindo e chamando\n",
    "\n",
    "Os métodos são **funções específicas de uma classe**, que só podem ser usadas após a criação de um objeto instância da classe.\n",
    "\n",
    "Assim, definimos os métodos dentro da classe, fazendo sempre referência à classe e seus atributos através do parâmetro self:"
   ]
  },
  {
   "cell_type": "code",
   "execution_count": 16,
   "metadata": {},
   "outputs": [],
   "source": [
    "class pessoa:\n",
    "    \n",
    "    def __init__(self, nome, idade, residencia):\n",
    "        \n",
    "        self.nome = nome\n",
    "        self.idade = idade\n",
    "        self.residencia = residencia\n",
    "        \n",
    "        self.altura = \"\"\n",
    "        self.num_filhos = \"\" \n",
    "    \n",
    "    # definição de um método da classe\n",
    "    # simplesmente printa o nome e um texto a seguir\n",
    "    def fala(self, texto):\n",
    "        \n",
    "        # printa algo\n",
    "        print(self.nome + \" diz:\", texto)"
   ]
  },
  {
   "cell_type": "markdown",
   "metadata": {},
   "source": [
    "Chamando o método, após instanciar a classe.\n",
    "\n",
    "Note, que o primeiro argumento do método, o \"self\", **é ignorado**! Ele é apenas usado para referenciair os atributos da classe!"
   ]
  },
  {
   "cell_type": "code",
   "execution_count": 17,
   "metadata": {},
   "outputs": [
    {
     "name": "stdout",
     "output_type": "stream",
     "text": [
      "Joãozinho diz: Eae pessoal, tudo bem?\n"
     ]
    }
   ],
   "source": [
    "eu = pessoa(\"Joãozinho\", \"32\", \"Mauá\")\n",
    "\n",
    "# chamando o método do objeto \"eu\"\n",
    "eu.fala(\"Eae pessoal, tudo bem?\")"
   ]
  },
  {
   "cell_type": "markdown",
   "metadata": {},
   "source": [
    "Vamos criar um método que altera diretamente um atributo:"
   ]
  },
  {
   "cell_type": "code",
   "execution_count": 18,
   "metadata": {},
   "outputs": [],
   "source": [
    "class pessoa:\n",
    "    \n",
    "    def __init__(self, nome, idade, residencia):\n",
    "        \n",
    "        self.nome = nome\n",
    "        self.idade = idade\n",
    "        self.residencia = residencia\n",
    "        \n",
    "        self.altura = \"\"\n",
    "        self.num_filhos = \"\" \n",
    "    \n",
    "        # definindo um novo atributo, de salario\n",
    "        # defino ele inicialmente como vazio\n",
    "        self.salario = \"\"\n",
    "        \n",
    "    def fala(self,texto):\n",
    "        \n",
    "        print(self.nome + \" diz:\", texto)\n",
    "        \n",
    "    \n",
    "    # função que aumenta o salário conforme a porcentagem\n",
    "    def aumento(self, porcentagem):\n",
    "        \n",
    "        # redefinição do atributo de salatio, de acordo com a porcentagem de aumento\n",
    "        self.salario = self.salario + self.salario*porcentagem"
   ]
  },
  {
   "cell_type": "code",
   "execution_count": 19,
   "metadata": {},
   "outputs": [
    {
     "name": "stdout",
     "output_type": "stream",
     "text": [
      "Salário inicial: 1000\n"
     ]
    }
   ],
   "source": [
    "eu = pessoa(\"Joãozinho\", \"32\", \"Mauá\")\n",
    "\n",
    "# definindo meu salário inicial\n",
    "eu.salario = 1000\n",
    "\n",
    "print(\"Salário inicial:\", eu.salario)"
   ]
  },
  {
   "cell_type": "code",
   "execution_count": 20,
   "metadata": {},
   "outputs": [
    {
     "name": "stdout",
     "output_type": "stream",
     "text": [
      "Salário após aumento: 1500.0\n"
     ]
    }
   ],
   "source": [
    "# aumentando o salario melo método \"aumento\"\n",
    "eu.aumento(0.5)\n",
    "\n",
    "print(\"Salário após aumento:\", eu.salario)"
   ]
  },
  {
   "cell_type": "markdown",
   "metadata": {},
   "source": [
    "A este ponto, conseguimos reconhecer que já fizemos muito o uso de métodos e objetos sem termos nos dado conta de sua existência!\n",
    "\n",
    "Por exemplo, para strings, usamos métodos como `.upper()`, `.lower()`, `.replace()`, etc.\n",
    "\n",
    "Para séries do pandas, usamos `.mean()`, `.value_counts()`, etc.\n",
    "\n",
    "Isso mostra que `str`, `list` e `pd.Series` são estruturas de classe! E, realmente, eles são! Nos bastidores do Python, muita coisa é feita com classes, sem que ao menos percebamos! E esse é uma das grandes vantagens desses métodos!"
   ]
  },
  {
   "cell_type": "code",
   "execution_count": 21,
   "metadata": {},
   "outputs": [],
   "source": [
    "minha_string = \"a\" + \"b\""
   ]
  },
  {
   "cell_type": "code",
   "execution_count": 22,
   "metadata": {},
   "outputs": [
    {
     "data": {
      "text/plain": [
       "'ab'"
      ]
     },
     "execution_count": 22,
     "metadata": {},
     "output_type": "execute_result"
    }
   ],
   "source": [
    "minha_string"
   ]
  },
  {
   "cell_type": "code",
   "execution_count": 23,
   "metadata": {},
   "outputs": [
    {
     "data": {
      "text/plain": [
       "'AB'"
      ]
     },
     "execution_count": 23,
     "metadata": {},
     "output_type": "execute_result"
    }
   ],
   "source": [
    "minha_string.upper()"
   ]
  },
  {
   "cell_type": "markdown",
   "metadata": {},
   "source": [
    "_____\n",
    "_____\n",
    "_____"
   ]
  },
  {
   "cell_type": "markdown",
   "metadata": {},
   "source": [
    "## 3) Atributos e métodos estáticos\n",
    "\n",
    "Se quisermos criar atributos e métodos que pertençam **à classe**, e não exatamente a um objeto instanciado desta, usamos suas versões **estáticas**\n",
    "\n",
    "- Para criar um atributo estático, basta **criar uma variável (atribuindo um valor inicial a ela) dentro da classe**, mas **fora de qualquer um de seus métodos**;\n",
    "- Para criar um método estático, use antes de sua criação **@staticmethod**"
   ]
  },
  {
   "cell_type": "code",
   "execution_count": 24,
   "metadata": {},
   "outputs": [],
   "source": [
    "class pessoa_pop:\n",
    "    \n",
    "    # criando um atributo estático\n",
    "    # valos começar com zero, e ir atualizando!\n",
    "    populacao = 0\n",
    "    pessoas = []\n",
    "\n",
    "    def __init__(self, nome, cpf):\n",
    "        self.nome = nome\n",
    "        self.cpf =  cpf\n",
    "        \n",
    "        # o __init__ é chamado quando uma Pessoa nova é criada...\n",
    "        # ...portanto, vamos atualizar nossa populacao sempre que alguém for criado!\n",
    "        pessoa_pop.populacao = pessoa_pop.populacao + 1\n",
    "        \n",
    "        pessoa_pop.pessoas.append(nome)\n",
    "        \n",
    "    # método estático referenciado à classe\n",
    "    @staticmethod\n",
    "    def popTotal():\n",
    "        print('População total:', pessoa_pop.populacao)"
   ]
  },
  {
   "cell_type": "code",
   "execution_count": 25,
   "metadata": {},
   "outputs": [
    {
     "data": {
      "text/plain": [
       "0"
      ]
     },
     "execution_count": 25,
     "metadata": {},
     "output_type": "execute_result"
    }
   ],
   "source": [
    "# atributo da propria classe\n",
    "pessoa_pop.populacao"
   ]
  },
  {
   "cell_type": "code",
   "execution_count": 26,
   "metadata": {},
   "outputs": [
    {
     "name": "stdout",
     "output_type": "stream",
     "text": [
      "População total: 0\n"
     ]
    }
   ],
   "source": [
    "pessoa_pop.popTotal()"
   ]
  },
  {
   "cell_type": "code",
   "execution_count": 27,
   "metadata": {},
   "outputs": [
    {
     "data": {
      "text/plain": [
       "1"
      ]
     },
     "execution_count": 27,
     "metadata": {},
     "output_type": "execute_result"
    }
   ],
   "source": [
    "mario = pessoa_pop('Mario', 12345678901)\n",
    "\n",
    "pessoa_pop.populacao"
   ]
  },
  {
   "cell_type": "code",
   "execution_count": 28,
   "metadata": {},
   "outputs": [
    {
     "data": {
      "text/plain": [
       "['Mario']"
      ]
     },
     "execution_count": 28,
     "metadata": {},
     "output_type": "execute_result"
    }
   ],
   "source": [
    "pessoa_pop.pessoas"
   ]
  },
  {
   "cell_type": "code",
   "execution_count": 29,
   "metadata": {},
   "outputs": [
    {
     "data": {
      "text/plain": [
       "2"
      ]
     },
     "execution_count": 29,
     "metadata": {},
     "output_type": "execute_result"
    }
   ],
   "source": [
    "luigi = pessoa_pop('Luigi', 98765432109)\n",
    "\n",
    "pessoa_pop.populacao"
   ]
  },
  {
   "cell_type": "code",
   "execution_count": 30,
   "metadata": {},
   "outputs": [
    {
     "data": {
      "text/plain": [
       "['Mario', 'Luigi']"
      ]
     },
     "execution_count": 30,
     "metadata": {},
     "output_type": "execute_result"
    }
   ],
   "source": [
    "pessoa_pop.pessoas"
   ]
  },
  {
   "cell_type": "code",
   "execution_count": 31,
   "metadata": {},
   "outputs": [
    {
     "name": "stdout",
     "output_type": "stream",
     "text": [
      "População total: 2\n"
     ]
    }
   ],
   "source": [
    "pessoa_pop.popTotal()"
   ]
  },
  {
   "cell_type": "markdown",
   "metadata": {},
   "source": [
    "__Atributos estáticos podem ser acessados tanto pela classe quanto por algum objeto da classe__"
   ]
  },
  {
   "cell_type": "code",
   "execution_count": 32,
   "metadata": {},
   "outputs": [
    {
     "name": "stdout",
     "output_type": "stream",
     "text": [
      "População total: 2\n"
     ]
    }
   ],
   "source": [
    "luigi.popTotal()"
   ]
  },
  {
   "cell_type": "code",
   "execution_count": 33,
   "metadata": {},
   "outputs": [
    {
     "data": {
      "text/plain": [
       "2"
      ]
     },
     "execution_count": 33,
     "metadata": {},
     "output_type": "execute_result"
    }
   ],
   "source": [
    "luigi.populacao"
   ]
  },
  {
   "cell_type": "markdown",
   "metadata": {},
   "source": [
    "___\n",
    "___\n",
    "___"
   ]
  },
  {
   "cell_type": "markdown",
   "metadata": {},
   "source": [
    "## 4) Métodos mágicos\n",
    "\n",
    "Como o python entende que o sinal \"+\", quando aplicado à objetos da classe `str` deve **concatenar** as duas strings, ao invés de fazer alguma outra operação estranha de soma?\n",
    "\n",
    "Isso é feito a partir dos **métodos mágicos**\n",
    "\n",
    "Para ilustrar os usos desses métodos, vamos criar uma classe de horário:"
   ]
  },
  {
   "cell_type": "code",
   "execution_count": 34,
   "metadata": {},
   "outputs": [],
   "source": [
    "class horario:\n",
    "    \n",
    "    # os argumentos serão opcionais!\n",
    "    def __init__(self, **dados):\n",
    "    \n",
    "        # criando alguns atributos com base no argumento opcional \"dados\"\n",
    "        if 'h' in dados:\n",
    "            self.h = dados['h']\n",
    "        else:\n",
    "            self.h = 0\n",
    "            \n",
    "        if 'm' in dados:\n",
    "            self.m = dados['m']\n",
    "        else:\n",
    "            self.m = 0\n",
    "            \n",
    "        if 's' in dados:\n",
    "            self.s = dados['s']\n",
    "        else:\n",
    "            self.s = 0"
   ]
  },
  {
   "cell_type": "code",
   "execution_count": 35,
   "metadata": {},
   "outputs": [],
   "source": [
    "hora = horario(h = 17, m = 18, s = 30)"
   ]
  },
  {
   "cell_type": "markdown",
   "metadata": {},
   "source": [
    "### Método de representação\n",
    "\n",
    "O método `__repr__` é um método mágico que permite dar um \"print\" diretamente no objeto, segundo o formato estabelecido!\n",
    "\n",
    "Sem definir este método na classe, o print mostra apenas o endereço do método:"
   ]
  },
  {
   "cell_type": "code",
   "execution_count": 36,
   "metadata": {},
   "outputs": [
    {
     "name": "stdout",
     "output_type": "stream",
     "text": [
      "<__main__.horario object at 0x0000000005305548>\n"
     ]
    }
   ],
   "source": [
    "print(hora)"
   ]
  },
  {
   "cell_type": "markdown",
   "metadata": {},
   "source": [
    "Mas, se redefinirmos a classe com o método de representação:"
   ]
  },
  {
   "cell_type": "code",
   "execution_count": 37,
   "metadata": {},
   "outputs": [],
   "source": [
    "class horario:\n",
    "    \n",
    "    def __init__(self, **dados):\n",
    "    \n",
    "        if 'h' in dados:\n",
    "            self.h = dados['h']\n",
    "        else:\n",
    "            self.h = 0\n",
    "        if 'm' in dados:\n",
    "            self.m = dados['m']\n",
    "        else:\n",
    "            self.m = 0\n",
    "        if 's' in dados:\n",
    "            self.s = dados['s']\n",
    "        else:\n",
    "            self.s = 0\n",
    "            \n",
    "    # definindo a representação da classe\n",
    "    def __repr__(self):\n",
    "        \n",
    "        # usando o format pra representar o horario\n",
    "        representacao = '{:02d}:{:02d}:{:02d}'.format(self.h, self.m, self.s)\n",
    "        \n",
    "        return representacao"
   ]
  },
  {
   "cell_type": "code",
   "execution_count": 38,
   "metadata": {},
   "outputs": [
    {
     "name": "stdout",
     "output_type": "stream",
     "text": [
      "17:50:00\n"
     ]
    }
   ],
   "source": [
    "hora = horario(h = 17, m = 50)\n",
    "\n",
    "# agora sim, o print irá automaticamente invocar o método __repr__!\n",
    "print(hora)"
   ]
  },
  {
   "cell_type": "markdown",
   "metadata": {},
   "source": [
    "### Métodos aritméticos\n",
    "\n",
    "Como o \"+\" é entendido como concatenação entre objetos da classe `str`?\n",
    "\n",
    "Isso se faz através dos __métodos mágicos aritméticos__, que substituem os símbolos aritméticos pelas operações que forem definidas dentro da classe!\n",
    "\n",
    "Temos os seguintes métodos mágicos aritméticos:\n",
    "\n",
    "- \\__add\\__:  soma: +\n",
    "- \\__sub\\__:  subtração: -\n",
    "- \\__mul\\__:  multiplicação: *\n",
    "- \\__truediv\\__:  divisão: /\n",
    "- \\__floordiv\\__:  divisão inteira: //\n",
    "- \\__mod\\__:  resto de divisão: %\n",
    "- \\__pow\\__:  potência: **\n",
    "\n",
    "Vamos, a seguir, definir um método de soma de horas na nossa classe, que vai ser chamado pelo operador aritmético \"+\" (ou seja, será o método `__add__`)"
   ]
  },
  {
   "cell_type": "code",
   "execution_count": 39,
   "metadata": {},
   "outputs": [],
   "source": [
    "class horario:\n",
    "    \n",
    "    def __init__(self, **dados):\n",
    "    \n",
    "        if 'h' in dados:\n",
    "            self.h = dados['h']\n",
    "        else:\n",
    "            self.h = 0\n",
    "        if 'm' in dados:\n",
    "            self.m = dados['m']\n",
    "        else:\n",
    "            self.m = 0 \n",
    "        if 's' in dados:\n",
    "            self.s = dados['s']\n",
    "        else:\n",
    "            self.s = 0\n",
    "    \n",
    "    \n",
    "    def __repr__(self):\n",
    "        \n",
    "        representacao = '{:02d}:{:02d}:{:02d}'.format(self.h, self.m, self.s)\n",
    "        return representacao\n",
    "\n",
    "\n",
    "    # aqui temos dois argumentos, o self (que faz referencia ao primeiro objeto),\n",
    "    # e o \"other\", que faz referencia ao segundo objeto \n",
    "    def __add__(self, other):\n",
    "\n",
    "        # soma hora com hora, minuto com minuto e segundo com segundo\n",
    "        ho = self.h + other.h\n",
    "        mi = self.m + other.m\n",
    "        se = self.s + other.s\n",
    "\n",
    "        # corrige os segundos em excesso\n",
    "        if se >= 60:\n",
    "            se = se - 60\n",
    "            mi = mi + 1\n",
    "\n",
    "        # corrige os minutos em excesso\n",
    "        if mi >= 60:\n",
    "            mi = mi - 60\n",
    "            ho = ho + 1\n",
    "\n",
    "        # aqui, criamos um novo objeto da classe horario, com os atributos calculados acima\n",
    "        # (ou seja, com a soma dos dois horarios)\n",
    "        resultado = horario(h=ho, m=mi, s=se)\n",
    "\n",
    "        # retornando o resultado, que é a soma dos dois horarios\n",
    "        return resultado"
   ]
  },
  {
   "cell_type": "code",
   "execution_count": 40,
   "metadata": {},
   "outputs": [
    {
     "name": "stdout",
     "output_type": "stream",
     "text": [
      "Se eu entrar às 08:40:00 \n",
      "e tiver uma jornada de 07:36:00 \n",
      "eu sairei às 16:16:00\n"
     ]
    }
   ],
   "source": [
    "# horario de entrada\n",
    "hora_entrada = horario(h = 8, m = 40)\n",
    "\n",
    "# jornada de trabalho\n",
    "jornada = horario(h = 7, m = 36)\n",
    "\n",
    "# hora de saida\n",
    "hora_saida = hora_entrada + jornada\n",
    "\n",
    "print(\"Se eu entrar às\", hora_entrada, \"\\ne tiver uma jornada de\", jornada, \"\\neu sairei às\", hora_saida)"
   ]
  },
  {
   "cell_type": "markdown",
   "metadata": {},
   "source": [
    "### Métodos lógicos\n",
    "\n",
    "Da mesma forma que há metódos mágicos para operações aritméticas, há também para **operações lógicas!**\n",
    "\n",
    "Naturalmente, estes métodos retornaram True ou False.\n",
    "\n",
    "Os métodos lógicos são:\n",
    "\n",
    "- \\__gt\\__: maior que (greater than): >\n",
    "- \\__ge\\__: maior ou igual (greater or equal): >=\n",
    "- \\__lt\\__: menor que (less than): <\n",
    "- \\__le\\__: menor ou igual (less or equal): <=\n",
    "- \\__eq\\__: igual (equal): ==\n",
    "- \\__ne\\__: diferente (not equal): !=\n",
    "\n",
    "\n",
    "Como fazer um método para comparar dois horários?\n"
   ]
  },
  {
   "cell_type": "code",
   "execution_count": 41,
   "metadata": {},
   "outputs": [],
   "source": [
    "class horario:\n",
    "    \n",
    "    def __init__(self, **dados):\n",
    "    \n",
    "        if 'h' in dados:\n",
    "            self.h = dados['h']\n",
    "        else:\n",
    "            self.h = 0\n",
    "        if 'm' in dados:\n",
    "            self.m = dados['m']\n",
    "        else:\n",
    "            self.m = 0 \n",
    "        if 's' in dados:\n",
    "            self.s = dados['s']\n",
    "        else:\n",
    "            self.s = 0\n",
    "    \n",
    "    \n",
    "    def __repr__(self):\n",
    "        \n",
    "        representacao = '{:02d}:{:02d}:{:02d}'.format(self.h, self.m, self.s)\n",
    "        return representacao\n",
    "\n",
    "\n",
    "    \n",
    "    def __add__(self, other):\n",
    "\n",
    "        h = self.h + other.h\n",
    "        m = self.m + other.m\n",
    "        s = self.s + other.s\n",
    "\n",
    "        if s >= 60:\n",
    "            s = s - 60\n",
    "            m = m + 1\n",
    "\n",
    "        if m >= 60:\n",
    "            m = m - 60\n",
    "            h = h + 1\n",
    "            \n",
    "        resultado = horario(h=h, m=m, s=s)\n",
    "\n",
    "        return resultado\n",
    "\n",
    "    \n",
    "    # vamos comparar dois objetos de hora, o self e o other\n",
    "    def __gt__(self, other):\n",
    "\n",
    "        # hora é maior\n",
    "        if self.h > other.h:\n",
    "            return True\n",
    "\n",
    "        # empate na hora, mas minuto é maior\n",
    "        elif self.h == other.h and self.m > other.m:\n",
    "            return True\n",
    "\n",
    "        # empate na hora e no minuto, mas segundo é maior\n",
    "        elif self.h == other.h and self.m == other.m and self.s > other.s:\n",
    "            return True\n",
    "\n",
    "        # em todos os outros casos, é pq o self é menor que o other, aí, retornamos False\n",
    "        else:\n",
    "            return False"
   ]
  },
  {
   "cell_type": "code",
   "execution_count": 42,
   "metadata": {},
   "outputs": [
    {
     "data": {
      "text/plain": [
       "False"
      ]
     },
     "execution_count": 42,
     "metadata": {},
     "output_type": "execute_result"
    }
   ],
   "source": [
    "# criando duas instancias da classe horario}\n",
    "horario_1 = horario(h=17, m=57, s=40)\n",
    "horario_2 = horario(h=17, m=57, s=42)\n",
    "\n",
    "# checando se o 1 é maior que o 2\n",
    "horario_1 > horario_2"
   ]
  },
  {
   "cell_type": "markdown",
   "metadata": {},
   "source": [
    "___\n",
    "___\n",
    "___"
   ]
  },
  {
   "cell_type": "markdown",
   "metadata": {},
   "source": [
    "## 5) Herança e Polimorfismo"
   ]
  },
  {
   "cell_type": "markdown",
   "metadata": {},
   "source": [
    "Imagine que você tenha várias classes com os mesmos atributos, os mesmos métodos e mesmos parâmetros. \n",
    "\n",
    "Reescrevê-los várias vezes é um desperdício de tempo! Além disso, se pecisarmos atualizar um método, precisaremos fazer a modificação múltiplas vezes. \n",
    "\n",
    "Para solucionar esta questão, trateremos dos conceitos de **herança** e **polimorfismo**.\n"
   ]
  },
  {
   "cell_type": "markdown",
   "metadata": {},
   "source": [
    "### Herança\n",
    "\n",
    "É possível criar **classes filhas** que herdem atributos e métodos de uma **classe mãe** através de **herança**.\n",
    "\n",
    "Para herdar, colocamos o **nome da classe mãe entre parênteses** na frente do nome da classe filha em sua definição.\n",
    "\n",
    "Se necessário, podemos redefinir um método na classe filha."
   ]
  },
  {
   "cell_type": "code",
   "execution_count": 43,
   "metadata": {},
   "outputs": [
    {
     "name": "stdout",
     "output_type": "stream",
     "text": [
      "Bidu faz au au.\n",
      "Mingau faz miau.\n",
      "Horácio faz barulho.\n"
     ]
    }
   ],
   "source": [
    "# criando a classe mãe\n",
    "class Animal:\n",
    "    \n",
    "    def __init__(self, nome):\n",
    "        self.nome = nome\n",
    "\n",
    "    def fala(self):\n",
    "        print(self.nome, 'faz barulho.')\n",
    "        \n",
    "        \n",
    "\n",
    "# criando uma classe filha, que herda o atributo \"nome\" e o método \"fala\"\n",
    "# mas, o método é redefinido!\n",
    "class Cachorro(Animal):\n",
    "    \n",
    "    def fala(self):\n",
    "        print(self.nome, 'faz au au.')\n",
    "        \n",
    "        \n",
    "\n",
    "# criando uma classe filha, que herda o atributo \"nome\" e o método \"fala\"       \n",
    "# mas, o método é redefinido!\n",
    "class Gato(Animal):\n",
    "    \n",
    "    def fala(self):\n",
    "        print(self.nome, 'faz miau.')\n",
    "        \n",
    "        \n",
    "\n",
    "# dessa vez, nao vamos redefinir o método: ele fará o mesmo que o original!        \n",
    "class Dinossauro(Animal):\n",
    "    \n",
    "    # pass é um comando \"vazio\": ele não faz nada, \n",
    "    # apenas evita erro por não colocarmos nada dentro da classe\n",
    "    pass\n",
    "\n",
    "\n",
    "cachorrinho = Cachorro('Bidu')\n",
    "gatinho = Gato('Mingau')\n",
    "dino = Dinossauro('Horácio')\n",
    "\n",
    "cachorrinho.fala()\n",
    "gatinho.fala()\n",
    "dino.fala()"
   ]
  },
  {
   "cell_type": "code",
   "execution_count": 44,
   "metadata": {},
   "outputs": [],
   "source": [
    "bicho = Animal(\"bicho estranho\")"
   ]
  },
  {
   "cell_type": "code",
   "execution_count": 45,
   "metadata": {},
   "outputs": [
    {
     "name": "stdout",
     "output_type": "stream",
     "text": [
      "bicho estranho faz barulho.\n"
     ]
    }
   ],
   "source": [
    "bicho.fala()"
   ]
  },
  {
   "cell_type": "markdown",
   "metadata": {},
   "source": [
    "Imagine agora que queremos herdar um método **parcialmente**, com a possibilidade de alterá-lo.\n",
    "\n",
    "(Isso é importante, pois se apenas copiássemos o método original, qualquer alteração nele teria de ser feita em todos os locais onde ele é copiado...)\n",
    "\n",
    "Para isso, usamos o método `super()`"
   ]
  },
  {
   "cell_type": "code",
   "execution_count": 46,
   "metadata": {},
   "outputs": [
    {
     "name": "stdout",
     "output_type": "stream",
     "text": [
      "Bidu faz barulho.\n",
      "O cachorrinho é da raça Poodle e, por ser cachorro, ele faz au au!\n"
     ]
    }
   ],
   "source": [
    "class Cachorro(Animal):\n",
    "    \n",
    "    # redefinindo o __init__\n",
    "    def __init__(self, nome, raca):\n",
    "        \n",
    "        # chamando a __init__ da classe mãe para as outras definições\n",
    "        super().__init__(nome)\n",
    "        \n",
    "        # pedaço novo de código\n",
    "        self.raca = raca\n",
    "\n",
    "    def fala(self):\n",
    "        \n",
    "        # pega o método fala da classe mãe..\n",
    "        super().fala()\n",
    "        \n",
    "        #.. e faz mais coisas!\n",
    "        print(\"O cachorrinho é da raça\", self.raca, \"e, por ser cachorro, ele faz au au!\")\n",
    "        \n",
    "        \n",
    "# como adicionamos um novo atributo obrigatório à __init__, temos que passa-lo\n",
    "cachorrinho = Cachorro('Bidu', 'Poodle')\n",
    "\n",
    "# chamando o método \"fala\n",
    "cachorrinho.fala()"
   ]
  },
  {
   "cell_type": "markdown",
   "metadata": {},
   "source": [
    "### Polimorfismo\n",
    "\n",
    "Do grego, **\"várias formas\"**. A ideia é que um objeto de uma certa classe pode se comportar como objeto de outras classes. \n",
    "\n",
    "Mais especificamente, **objetos de uma classe filha podem também ser tratados como se pertencessem à classe mãe**.\n",
    "\n",
    "O método `isinstance` recebe 2 parâmetros: um objeto e uma classe. \n",
    "\n",
    "Ele retorna True caso o objeto pertenca à classe, e False caso não pertença."
   ]
  },
  {
   "cell_type": "code",
   "execution_count": 47,
   "metadata": {},
   "outputs": [],
   "source": [
    "cachorrinho = Cachorro('Bidu', 'Poodle')\n",
    "gatinho = Gato('Mingau')\n",
    "dino = Dinossauro('Horácio')"
   ]
  },
  {
   "cell_type": "code",
   "execution_count": 48,
   "metadata": {},
   "outputs": [
    {
     "name": "stdout",
     "output_type": "stream",
     "text": [
      "o cachorrinho é cachorro?\n",
      "True\n",
      "\n",
      "\n",
      "o gatinho é gato?\n",
      "True\n",
      "\n",
      "\n",
      "o cachorrinho é gato?\n",
      "False\n",
      "\n",
      "\n",
      "o gatinho é cachorro?\n",
      "False\n",
      "\n",
      "\n",
      "o cachorrinho é animal?\n",
      "True\n",
      "\n",
      "\n",
      "o gatinho é animal?\n",
      "True\n"
     ]
    }
   ],
   "source": [
    "print(\"o cachorrinho é cachorro?\")\n",
    "print(isinstance(cachorrinho, Cachorro))\n",
    "print(\"\\n\")\n",
    "\n",
    "print(\"o gatinho é gato?\")\n",
    "print(isinstance(gatinho, Gato))\n",
    "print(\"\\n\")\n",
    "\n",
    "print(\"o cachorrinho é gato?\")\n",
    "print(isinstance(cachorrinho, Gato))\n",
    "print(\"\\n\")\n",
    "\n",
    "print(\"o gatinho é cachorro?\")\n",
    "print(isinstance(gatinho, Cachorro))\n",
    "print(\"\\n\")\n",
    "\n",
    "print(\"o cachorrinho é animal?\")\n",
    "print(isinstance(cachorrinho, Animal))\n",
    "print(\"\\n\")\n",
    "\n",
    "print(\"o gatinho é animal?\")\n",
    "print(isinstance(gatinho, Animal))"
   ]
  },
  {
   "cell_type": "markdown",
   "metadata": {},
   "source": [
    "Isso é útil porque uma função que seja feita para lidar com Animal será capaz de lidar com qualquer classe herdeira de Animal com a mesma facilidade."
   ]
  }
 ],
 "metadata": {
  "kernelspec": {
   "display_name": "Python 3",
   "language": "python",
   "name": "python3"
  },
  "language_info": {
   "codemirror_mode": {
    "name": "ipython",
    "version": 3
   },
   "file_extension": ".py",
   "mimetype": "text/x-python",
   "name": "python",
   "nbconvert_exporter": "python",
   "pygments_lexer": "ipython3",
   "version": "3.7.6"
  }
 },
 "nbformat": 4,
 "nbformat_minor": 4
}
