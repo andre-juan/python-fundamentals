{
 "cells": [
  {
   "cell_type": "markdown",
   "metadata": {},
   "source": [
    "# Aula 4 - strings\n",
    "\n",
    "Na aula de hoje, vamos explorar os seguintes tópicos em Python:\n",
    "\n",
    "- 1) Strings\n",
    "- 2) Funções de Strings\n",
    "    - 2.1) Formatação de strings\n"
   ]
  },
  {
   "cell_type": "markdown",
   "metadata": {},
   "source": [
    "____\n",
    "____\n",
    "____"
   ]
  },
  {
   "cell_type": "markdown",
   "metadata": {},
   "source": [
    "## 1) Strings\n",
    "\n",
    "Desde a primeira aula, temos trabalhado com strings, que, como vimos, representam **dados textuais**\n",
    "\n",
    "Vamos, agora, olhar pra strings um pouco mais a fundo, e aprender algumas funções para trabalharmos com strings"
   ]
  },
  {
   "cell_type": "markdown",
   "metadata": {},
   "source": [
    "Uma string nada mais é do que uma **coleção de caracteres**!\n",
    "\n",
    "Assim, podemos acessar caracteres específicos ou então um intervalo de caracteres de uma string, como se fosse uma lista!\n",
    "\n",
    "**OBS.: Para strings também, o índice começa em 0, e podemos usar índices negativos!**"
   ]
  },
  {
   "cell_type": "code",
   "execution_count": 1,
   "metadata": {},
   "outputs": [],
   "source": [
    "nome = \"André\""
   ]
  },
  {
   "cell_type": "code",
   "execution_count": 2,
   "metadata": {},
   "outputs": [
    {
     "data": {
      "text/plain": [
       "'A'"
      ]
     },
     "execution_count": 2,
     "metadata": {},
     "output_type": "execute_result"
    }
   ],
   "source": [
    "nome[0]"
   ]
  },
  {
   "cell_type": "markdown",
   "metadata": {},
   "source": [
    "Para saber o comprimento de uma string (quantos caracteres ela tem, incluindo espaços e pontuações), use a função len():"
   ]
  },
  {
   "cell_type": "code",
   "execution_count": 3,
   "metadata": {},
   "outputs": [
    {
     "data": {
      "text/plain": [
       "5"
      ]
     },
     "execution_count": 3,
     "metadata": {},
     "output_type": "execute_result"
    }
   ],
   "source": [
    "len(nome)"
   ]
  },
  {
   "cell_type": "markdown",
   "metadata": {},
   "source": [
    "Podemos também percorrer cada caractere da string com o `for` -- strings são objetos **iteráveis**:"
   ]
  },
  {
   "cell_type": "code",
   "execution_count": 4,
   "metadata": {},
   "outputs": [
    {
     "name": "stdout",
     "output_type": "stream",
     "text": [
      "A\n",
      "n\n",
      "d\n",
      "r\n",
      "é\n"
     ]
    }
   ],
   "source": [
    "for elemento in nome:\n",
    "    \n",
    "    print(elemento)"
   ]
  },
  {
   "cell_type": "markdown",
   "metadata": {},
   "source": [
    "Dá pra fazer o mesmo com o range() e o len():"
   ]
  },
  {
   "cell_type": "code",
   "execution_count": 5,
   "metadata": {},
   "outputs": [
    {
     "name": "stdout",
     "output_type": "stream",
     "text": [
      "0 A\n",
      "1 n\n",
      "2 d\n",
      "3 r\n",
      "4 é\n"
     ]
    }
   ],
   "source": [
    "for i in range(len(nome)):\n",
    "    \n",
    "    print(i, nome[i])"
   ]
  },
  {
   "cell_type": "markdown",
   "metadata": {},
   "source": [
    "Apesar de se parecer com uma lista, a string não tem exatamente as propriedades de uma lista. Por exemplo, **não podemos alterar** caracteres individualmente:"
   ]
  },
  {
   "cell_type": "code",
   "execution_count": 6,
   "metadata": {},
   "outputs": [],
   "source": [
    "nome = \"André\""
   ]
  },
  {
   "cell_type": "code",
   "execution_count": 7,
   "metadata": {},
   "outputs": [
    {
     "ename": "TypeError",
     "evalue": "'str' object does not support item assignment",
     "output_type": "error",
     "traceback": [
      "\u001b[1;31m---------------------------------------------------------------------------\u001b[0m",
      "\u001b[1;31mTypeError\u001b[0m                                 Traceback (most recent call last)",
      "\u001b[1;32m<ipython-input-7-2fb0d77f2203>\u001b[0m in \u001b[0;36m<module>\u001b[1;34m\u001b[0m\n\u001b[1;32m----> 1\u001b[1;33m \u001b[0mnome\u001b[0m\u001b[1;33m[\u001b[0m\u001b[1;33m-\u001b[0m\u001b[1;36m1\u001b[0m\u001b[1;33m]\u001b[0m \u001b[1;33m=\u001b[0m \u001b[1;34m\"e...\"\u001b[0m\u001b[1;33m\u001b[0m\u001b[1;33m\u001b[0m\u001b[0m\n\u001b[0m",
      "\u001b[1;31mTypeError\u001b[0m: 'str' object does not support item assignment"
     ]
    }
   ],
   "source": [
    "nome[-1] = \"e...\""
   ]
  },
  {
   "cell_type": "markdown",
   "metadata": {},
   "source": [
    "Mas nós conseguimos **alterar caracteres (ou palavras)** com o método \"replace()\":"
   ]
  },
  {
   "cell_type": "code",
   "execution_count": 8,
   "metadata": {},
   "outputs": [],
   "source": [
    "nome = \"André Picolé, é é\""
   ]
  },
  {
   "cell_type": "code",
   "execution_count": 9,
   "metadata": {},
   "outputs": [
    {
     "data": {
      "text/plain": [
       "'Andre.... Picole...., e.... e....'"
      ]
     },
     "execution_count": 9,
     "metadata": {},
     "output_type": "execute_result"
    }
   ],
   "source": [
    "nome.replace(\"é\", \"e....\")"
   ]
  },
  {
   "cell_type": "code",
   "execution_count": 10,
   "metadata": {},
   "outputs": [
    {
     "data": {
      "text/plain": [
       "'Andre.... Picole...., é é'"
      ]
     },
     "execution_count": 10,
     "metadata": {},
     "output_type": "execute_result"
    }
   ],
   "source": [
    "# ultimo parametro: quantidade de primeiras aparições do caractere a ser substituido\n",
    "nome.replace(\"é\", \"e....\", 2)"
   ]
  },
  {
   "cell_type": "markdown",
   "metadata": {},
   "source": [
    "Podemos **transformar uma string em uma lista de caracteres**, explicitamente, usando a fução \"list()\""
   ]
  },
  {
   "cell_type": "code",
   "execution_count": 11,
   "metadata": {},
   "outputs": [],
   "source": [
    "lista_nome = list(nome)"
   ]
  },
  {
   "cell_type": "code",
   "execution_count": 12,
   "metadata": {},
   "outputs": [
    {
     "data": {
      "text/plain": [
       "['A',\n",
       " 'n',\n",
       " 'd',\n",
       " 'r',\n",
       " 'é',\n",
       " ' ',\n",
       " 'P',\n",
       " 'i',\n",
       " 'c',\n",
       " 'o',\n",
       " 'l',\n",
       " 'é',\n",
       " ',',\n",
       " ' ',\n",
       " 'é',\n",
       " ' ',\n",
       " 'é']"
      ]
     },
     "execution_count": 12,
     "metadata": {},
     "output_type": "execute_result"
    }
   ],
   "source": [
    "lista_nome"
   ]
  },
  {
   "cell_type": "markdown",
   "metadata": {},
   "source": [
    "Agora sim, podemos alterar um elemento da lista:"
   ]
  },
  {
   "cell_type": "code",
   "execution_count": 13,
   "metadata": {},
   "outputs": [],
   "source": [
    "lista_nome[-6] = \"e.......\""
   ]
  },
  {
   "cell_type": "code",
   "execution_count": 14,
   "metadata": {},
   "outputs": [
    {
     "data": {
      "text/plain": [
       "['A',\n",
       " 'n',\n",
       " 'd',\n",
       " 'r',\n",
       " 'é',\n",
       " ' ',\n",
       " 'P',\n",
       " 'i',\n",
       " 'c',\n",
       " 'o',\n",
       " 'l',\n",
       " 'e.......',\n",
       " ',',\n",
       " ' ',\n",
       " 'é',\n",
       " ' ',\n",
       " 'é']"
      ]
     },
     "execution_count": 14,
     "metadata": {},
     "output_type": "execute_result"
    }
   ],
   "source": [
    "lista_nome"
   ]
  },
  {
   "cell_type": "markdown",
   "metadata": {},
   "source": [
    "E, pra trasnformar a lista de volta pra string, usamos a função \"join()\":"
   ]
  },
  {
   "cell_type": "code",
   "execution_count": 15,
   "metadata": {},
   "outputs": [
    {
     "data": {
      "text/plain": [
       "'André Picole......., é é'"
      ]
     },
     "execution_count": 15,
     "metadata": {},
     "output_type": "execute_result"
    }
   ],
   "source": [
    "\"\".join(lista_nome)"
   ]
  },
  {
   "cell_type": "markdown",
   "metadata": {},
   "source": [
    "Um exemplo do uso do .join() pra juntar os números de uma lista em um único numero"
   ]
  },
  {
   "cell_type": "code",
   "execution_count": 16,
   "metadata": {},
   "outputs": [
    {
     "name": "stdout",
     "output_type": "stream",
     "text": [
      "2020\n"
     ]
    }
   ],
   "source": [
    "lista_num = [2, 0, 2, 0]\n",
    "\n",
    "num = int(\"\".join([str(elemento) for elemento in lista_num]))\n",
    "\n",
    "print(num)"
   ]
  },
  {
   "cell_type": "markdown",
   "metadata": {},
   "source": [
    "Como já vimos, podemos fazer **operações com strings**:"
   ]
  },
  {
   "cell_type": "markdown",
   "metadata": {},
   "source": [
    "Soma de strings: ao somar duas strings, elas são concatenadas:"
   ]
  },
  {
   "cell_type": "code",
   "execution_count": 17,
   "metadata": {},
   "outputs": [
    {
     "data": {
      "text/plain": [
       "'André Picolé'"
      ]
     },
     "execution_count": 17,
     "metadata": {},
     "output_type": "execute_result"
    }
   ],
   "source": [
    "\"André\" + \" Picolé\""
   ]
  },
  {
   "cell_type": "markdown",
   "metadata": {},
   "source": [
    "Multiplicação de string por inteiro: ao multiplicar uma string por um número inteiro, a string é repetida:"
   ]
  },
  {
   "cell_type": "code",
   "execution_count": 18,
   "metadata": {},
   "outputs": [
    {
     "data": {
      "text/plain": [
       "'André André André '"
      ]
     },
     "execution_count": 18,
     "metadata": {},
     "output_type": "execute_result"
    }
   ],
   "source": [
    "\"André \" * 3"
   ]
  },
  {
   "cell_type": "markdown",
   "metadata": {},
   "source": [
    "__________\n",
    "__________\n",
    "__________"
   ]
  },
  {
   "cell_type": "markdown",
   "metadata": {},
   "source": [
    "## 2) Funções de strings\n",
    "\n",
    "Como listas, strings também têm algumas funções específicas. Algumas delas são:"
   ]
  },
  {
   "cell_type": "markdown",
   "metadata": {},
   "source": [
    ".upper(): transforma todos os caracteres em maiúscula"
   ]
  },
  {
   "cell_type": "code",
   "execution_count": 19,
   "metadata": {},
   "outputs": [],
   "source": [
    "nome = \"André\""
   ]
  },
  {
   "cell_type": "code",
   "execution_count": 20,
   "metadata": {},
   "outputs": [
    {
     "data": {
      "text/plain": [
       "'ANDRÉ'"
      ]
     },
     "execution_count": 20,
     "metadata": {},
     "output_type": "execute_result"
    }
   ],
   "source": [
    "nome.upper()"
   ]
  },
  {
   "cell_type": "markdown",
   "metadata": {},
   "source": [
    ".lower(): trasnforma todos os caracteres em minúscula"
   ]
  },
  {
   "cell_type": "code",
   "execution_count": 21,
   "metadata": {},
   "outputs": [
    {
     "data": {
      "text/plain": [
       "'andré'"
      ]
     },
     "execution_count": 21,
     "metadata": {},
     "output_type": "execute_result"
    }
   ],
   "source": [
    "nome.lower()"
   ]
  },
  {
   "cell_type": "markdown",
   "metadata": {},
   "source": [
    ".title(): deixa a primeira letra de cada palavra em maiúscula"
   ]
  },
  {
   "cell_type": "code",
   "execution_count": 22,
   "metadata": {},
   "outputs": [
    {
     "data": {
      "text/plain": [
       "'Empresa S A De Sao Paulo'"
      ]
     },
     "execution_count": 22,
     "metadata": {},
     "output_type": "execute_result"
    }
   ],
   "source": [
    "escola = \"empresa s a de sao paulo\"\n",
    "\n",
    "escola.title()"
   ]
  },
  {
   "cell_type": "markdown",
   "metadata": {},
   "source": [
    ".capitalize(): deixa a primeira letra da primeira palavra em maiúscula"
   ]
  },
  {
   "cell_type": "code",
   "execution_count": 23,
   "metadata": {},
   "outputs": [
    {
     "data": {
      "text/plain": [
       "'Empresa s a de sao paulo'"
      ]
     },
     "execution_count": 23,
     "metadata": {},
     "output_type": "execute_result"
    }
   ],
   "source": [
    "escola.capitalize()"
   ]
  },
  {
   "cell_type": "markdown",
   "metadata": {},
   "source": [
    "É possível quebrar uma string em determinado caractere, tendo como resultado uma **lista com os caracteres além da quebra**.\n",
    "\n",
    "- Para quebrar nos espaços, use a função \".split()\", sem argumento"
   ]
  },
  {
   "cell_type": "code",
   "execution_count": 24,
   "metadata": {},
   "outputs": [],
   "source": [
    "oi = \"oi, tudo bem?\""
   ]
  },
  {
   "cell_type": "code",
   "execution_count": 25,
   "metadata": {},
   "outputs": [
    {
     "data": {
      "text/plain": [
       "['oi,', 'tudo', 'bem?']"
      ]
     },
     "execution_count": 25,
     "metadata": {},
     "output_type": "execute_result"
    }
   ],
   "source": [
    "oi.split()"
   ]
  },
  {
   "cell_type": "markdown",
   "metadata": {},
   "source": [
    "- Para quebrar em algum caracter, use o caractere como argumento:"
   ]
  },
  {
   "cell_type": "code",
   "execution_count": 26,
   "metadata": {},
   "outputs": [
    {
     "data": {
      "text/plain": [
       "['oi', ' tudo bem?']"
      ]
     },
     "execution_count": 26,
     "metadata": {},
     "output_type": "execute_result"
    }
   ],
   "source": [
    "oi.split(\",\")"
   ]
  },
  {
   "cell_type": "markdown",
   "metadata": {},
   "source": [
    "__Tirar espaços que tão sobrando no fim e no início da string__\n",
    "\n",
    "Utilize a função strip()"
   ]
  },
  {
   "cell_type": "code",
   "execution_count": 27,
   "metadata": {},
   "outputs": [
    {
     "data": {
      "text/plain": [
       "'vermelho'"
      ]
     },
     "execution_count": 27,
     "metadata": {},
     "output_type": "execute_result"
    }
   ],
   "source": [
    "cor = \"  vermelho      \"\n",
    "\n",
    "cor.strip()"
   ]
  },
  {
   "cell_type": "markdown",
   "metadata": {},
   "source": [
    "Mas essa função não elimina espaços extrar no \"meio\" da string -- apenas no início e no fim!"
   ]
  },
  {
   "cell_type": "code",
   "execution_count": 28,
   "metadata": {},
   "outputs": [
    {
     "data": {
      "text/plain": [
       "'vermelho            rosa'"
      ]
     },
     "execution_count": 28,
     "metadata": {},
     "output_type": "execute_result"
    }
   ],
   "source": [
    "cor = \"vermelho            rosa\"\n",
    "cor.strip()"
   ]
  },
  {
   "cell_type": "markdown",
   "metadata": {},
   "source": [
    "__Pra tirar espaços do meio, podemos fazer:__"
   ]
  },
  {
   "cell_type": "code",
   "execution_count": 29,
   "metadata": {},
   "outputs": [
    {
     "data": {
      "text/plain": [
       "'vermelho rosa'"
      ]
     },
     "execution_count": 29,
     "metadata": {},
     "output_type": "execute_result"
    }
   ],
   "source": [
    "\" \".join(cor.split())"
   ]
  },
  {
   "cell_type": "markdown",
   "metadata": {},
   "source": [
    "Ou:"
   ]
  },
  {
   "cell_type": "code",
   "execution_count": 30,
   "metadata": {},
   "outputs": [
    {
     "data": {
      "text/plain": [
       "'vermelho rosa'"
      ]
     },
     "execution_count": 30,
     "metadata": {},
     "output_type": "execute_result"
    }
   ],
   "source": [
    "cor.replace(\" \", \"\", cor.count(\" \") - 1)"
   ]
  },
  {
   "cell_type": "markdown",
   "metadata": {},
   "source": [
    "Outras funções interessantes...\n",
    "\n",
    "- isdigit()\n",
    "- isalpha()\n",
    "- isalnum()\n",
    "- isspace()"
   ]
  },
  {
   "cell_type": "code",
   "execution_count": 31,
   "metadata": {},
   "outputs": [
    {
     "name": "stdout",
     "output_type": "stream",
     "text": [
      "['1', '3', '0', '0']\n",
      "['e', 'l', 'e', 'd', 'i', 's', 's', 'e', 'v', 'a', 'm', 'o', 's', 'n', 'o', 's', 'e', 'n', 'c', 'o', 'n', 't', 'r', 'a', 'r', 'à', 's']\n",
      "[' ', ':', ' ', ' ', ' ', ' ', ' ', ':']\n"
     ]
    }
   ],
   "source": [
    "frase = \"ele disse: vamos nos encontrar às 13:00\"\n",
    "\n",
    "num = []\n",
    "letra = []\n",
    "pontos = []\n",
    "\n",
    "for char in frase:\n",
    "    \n",
    "    if char.isdigit() == True:\n",
    "        \n",
    "        num.append(char)\n",
    "        \n",
    "    elif char.isalpha() == True:\n",
    "        \n",
    "        letra.append(char)\n",
    "        \n",
    "    else:\n",
    "        \n",
    "        pontos.append(char)\n",
    "        \n",
    "print(num)\n",
    "print(letra)\n",
    "print(pontos)"
   ]
  },
  {
   "cell_type": "markdown",
   "metadata": {},
   "source": [
    "Podemos usar as funções acima para padronizar a resposta de um usuário!\n",
    "\n",
    "Utilizamos a função \n",
    "\n",
    "```unicodedata.normalize(\"NFD\", minha_string).encode(\"ascii\", \"ignore\").decode(\"utf-8\")```\n",
    "\n",
    "Para tirar acentos da string \"minha_string\"\n",
    "\n",
    "E o ```strip()``` é usado pra tirar espaços desnecessários do início e do fim de uma string"
   ]
  },
  {
   "cell_type": "code",
   "execution_count": 33,
   "metadata": {},
   "outputs": [
    {
     "name": "stdout",
     "output_type": "stream",
     "text": [
      "string original: Coração\n",
      "string padronizada: CORACAO\n"
     ]
    }
   ],
   "source": [
    "# mais um exemplo\n",
    "\n",
    "import unicodedata\n",
    "\n",
    "minha_string = \"Coração\"\n",
    "\n",
    "print(\"string original:\", minha_string)\n",
    "print(\"string padronizada:\", unicodedata.normalize(\"NFD\", minha_string).encode(\"ascii\", \"ignore\").decode(\"utf-8\").upper().strip())"
   ]
  },
  {
   "cell_type": "markdown",
   "metadata": {},
   "source": [
    "Como pudemos ver acima, processar a string para que ela esteja em **determinado padrão** (por exemplo: em letras maiúsculas e sem acentos) é um passo muito importante para que operações de comparação entre strings funcionem perfeitamente sem erros!"
   ]
  },
  {
   "cell_type": "code",
   "execution_count": 37,
   "metadata": {},
   "outputs": [
    {
     "name": "stdout",
     "output_type": "stream",
     "text": [
      "Você trabalhava com ele? não\n",
      "1\n"
     ]
    }
   ],
   "source": [
    "import unicodedata\n",
    "\n",
    "resposta = input(\"Você trabalhava com ele? \")\n",
    "\n",
    "ponto = 0\n",
    "\n",
    "if unicodedata.normalize(\"NFD\", resposta).encode(\"ascii\", \"ignore\").decode(\"utf-8\").upper().strip() == \"NAO\":\n",
    "\n",
    "    ponto = ponto + 1\n",
    "    \n",
    "print(ponto)"
   ]
  },
  {
   "cell_type": "markdown",
   "metadata": {},
   "source": [
    "___\n",
    "___"
   ]
  },
  {
   "cell_type": "markdown",
   "metadata": {},
   "source": [
    "### 2.1) Formatação de strings\n",
    "\n",
    "Também podemos **formatar strings**. Isso pode ser super útil tanto ao receber dados do usuário (input) quando ao exbibir dados pro usuário (print)"
   ]
  },
  {
   "cell_type": "markdown",
   "metadata": {},
   "source": [
    "Um dos usos mais legal do format é para **exibir** strings formatadas.\n",
    "\n",
    "Imagine que você queira exibir uma data no formato dd/mm/aaaa.\n",
    "\n",
    "Em situações normais, dias e meses inferiores a 10 apareceriam com apenas 1 dígito (int não é representado com zeros à esquerda). Porém, podemos especificar no format que gostaríamos de representar um inteiro com 2 dígitos, preenchendo com zero dígitos em branco (à esquerda): \n",
    "\n",
    "```python\n",
    "\n",
    "dia = 1\n",
    "mes = 2\n",
    "ano = 2020\n",
    "data = '{:02d}/{:02d}/{:04d}'.format(dia, mes, ano)\n",
    "print(data) # resultado: 01/02/2020\n",
    "```\n",
    "\n",
    "O símbolo 'd' indica que estamos representando números **inteiros** em base decimal (dígitos de 0 a 9). \n",
    "\n",
    "Os símbolos '2' e '4' indicam, respectivamente, 2 dígitos ou 4 dígitos. \n",
    "\n",
    "o símbolo '0' indica que se faltar dígitos, os espaços devem ser preenchidos com zero"
   ]
  },
  {
   "cell_type": "code",
   "execution_count": 38,
   "metadata": {},
   "outputs": [
    {
     "name": "stdout",
     "output_type": "stream",
     "text": [
      "11/12/2020\n"
     ]
    }
   ],
   "source": [
    "dia = 11\n",
    "mes = 12\n",
    "ano = 2020\n",
    "\n",
    "data = \"{:02d}/{:02d}/{:04d}\".format(dia, mes, ano)\n",
    "\n",
    "print(data)"
   ]
  },
  {
   "cell_type": "markdown",
   "metadata": {},
   "source": [
    "Imagina que você queira exibir algum valor monetário, por exemplo, o preço de alguma coisa.\n",
    "\n",
    "Utilizando float, pode ser que seu resultado tenha apenas uma casa decimal.\n",
    "\n",
    "Mas, se tratando de dinheito, sempre queremos mostrar duas casas decimais!\n",
    "\n",
    "Usaremos o format para representar com apenas 2 casas.\n",
    "\n",
    "```python\n",
    "preco = 1500.5\n",
    "\n",
    "print(preco) \n",
    "\n",
    "precoFinal = 'R$ {:.2f}'.format(preco)\n",
    "\n",
    "print(precoFinal)\n",
    "```\n",
    "\n",
    "Neste caso, o 'f' indica que o número é float. \n",
    "\n",
    "Já o '.2' indica que queremos 2 casas após o ponto decimal. \n",
    "\n",
    "Note que a função não apenas descarta as casas excedentes, e sim arredonda corretamente o número."
   ]
  },
  {
   "cell_type": "code",
   "execution_count": 39,
   "metadata": {},
   "outputs": [
    {
     "name": "stdout",
     "output_type": "stream",
     "text": [
      "R$ 1500.57\n"
     ]
    }
   ],
   "source": [
    "preco = 1500.5678\n",
    "\n",
    "preco_final = \"R$ {:.2f}\".format(preco)\n",
    "\n",
    "print(preco_final)"
   ]
  }
 ],
 "metadata": {
  "kernelspec": {
   "display_name": "Python 3",
   "language": "python",
   "name": "python3"
  },
  "language_info": {
   "codemirror_mode": {
    "name": "ipython",
    "version": 3
   },
   "file_extension": ".py",
   "mimetype": "text/x-python",
   "name": "python",
   "nbconvert_exporter": "python",
   "pygments_lexer": "ipython3",
   "version": "3.7.6"
  },
  "varInspector": {
   "cols": {
    "lenName": 16,
    "lenType": 16,
    "lenVar": 40
   },
   "kernels_config": {
    "python": {
     "delete_cmd_postfix": "",
     "delete_cmd_prefix": "del ",
     "library": "var_list.py",
     "varRefreshCmd": "print(var_dic_list())"
    },
    "r": {
     "delete_cmd_postfix": ") ",
     "delete_cmd_prefix": "rm(",
     "library": "var_list.r",
     "varRefreshCmd": "cat(var_dic_list()) "
    }
   },
   "types_to_exclude": [
    "module",
    "function",
    "builtin_function_or_method",
    "instance",
    "_Feature"
   ],
   "window_display": false
  }
 },
 "nbformat": 4,
 "nbformat_minor": 4
}
