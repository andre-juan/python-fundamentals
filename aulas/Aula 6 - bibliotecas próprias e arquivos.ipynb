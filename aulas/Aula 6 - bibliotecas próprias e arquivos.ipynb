{
 "cells": [
  {
   "cell_type": "markdown",
   "metadata": {},
   "source": [
    "# Aula 6 - bibliotecas próprias e arquivos\n",
    "\n",
    "Na aula de hoje, vamos explorar os seguintes tópicos em Python:\n",
    "\n",
    "- 1) Criando a importando nossas próprias bibliotecas\n",
    "- 2) Arquivos em Python\n",
    "- 3) Arquivos csv\n"
   ]
  },
  {
   "cell_type": "markdown",
   "metadata": {},
   "source": [
    "______\n",
    "________\n",
    "______"
   ]
  },
  {
   "cell_type": "markdown",
   "metadata": {},
   "source": [
    "## 1) Criando e importando nossas próprias bibliotecas\n",
    "\n",
    "Como vimos na última aula, podemos fazer um programa no Jupyter Notebook, e exportá-lo com a extensão \".py\", para, por exemplo, executá-lo no terminal, ou em alguma outra plataforma.\n",
    "\n",
    "Com isso, podemos criar uma **biblioteca nossa!**\n",
    "\n",
    "Para isso, use o notebook \"minha_biblioteca.ipybn\" como exemplo. Faça o processo todo de baixar como arquivo .py, e coloque o arquivo .py na mesma pasta que este notebook."
   ]
  },
  {
   "cell_type": "markdown",
   "metadata": {},
   "source": [
    "Após criar a biblioteca, podemos importa-la como fazemos com qualquer outra bilioteca"
   ]
  },
  {
   "cell_type": "code",
   "execution_count": 1,
   "metadata": {},
   "outputs": [],
   "source": [
    "import minha_biblioteca as mb"
   ]
  },
  {
   "cell_type": "code",
   "execution_count": 2,
   "metadata": {},
   "outputs": [
    {
     "name": "stdout",
     "output_type": "stream",
     "text": [
      "Olá, André\n"
     ]
    }
   ],
   "source": [
    "mb.cumprimenta(\"André\")"
   ]
  },
  {
   "cell_type": "code",
   "execution_count": 3,
   "metadata": {},
   "outputs": [],
   "source": [
    "fatorial = mb.fatorial(4)"
   ]
  },
  {
   "cell_type": "code",
   "execution_count": 4,
   "metadata": {},
   "outputs": [
    {
     "data": {
      "text/plain": [
       "24"
      ]
     },
     "execution_count": 4,
     "metadata": {},
     "output_type": "execute_result"
    }
   ],
   "source": [
    "fatorial"
   ]
  },
  {
   "cell_type": "markdown",
   "metadata": {},
   "source": [
    "E aí, podemos utilizar suas funções em diferentes programas!"
   ]
  },
  {
   "cell_type": "markdown",
   "metadata": {},
   "source": [
    "____\n",
    "____\n",
    "____"
   ]
  },
  {
   "cell_type": "markdown",
   "metadata": {},
   "source": [
    "## 2) Arquivos em Python\n",
    "\n",
    "Todos os programas que fizemos até o momento tinham variáveis, input e output **temporários**, guardados na memória RAM do computador **enquanto o programa é executado**.\n",
    "\n",
    "Após o programa ser finalizado, todas as variáveis, inputs e outputs eram perdidos.\n",
    "\n",
    "Muitas vezes queremos que esses valores sejam armazenados, que os dados processados pelo programa sejam preservados. O termo para esta característica é **persistência de dados**.\n",
    "\n",
    "A persistência se dá através de **arquivos**: documentos criados para **armazenar dados em uma memória permanente**, como o **disco rígido**, um **USB** ou um **servidor web**."
   ]
  },
  {
   "cell_type": "markdown",
   "metadata": {},
   "source": [
    "O Python têm algumas funções padrão para a manipulação de arquivos. Vamos vê-las!"
   ]
  },
  {
   "cell_type": "markdown",
   "metadata": {},
   "source": [
    "A função `open()` é usada pra abrir arquivos existentes ou criar um arquivo novo. \n",
    "\n",
    "Ela possui 2 argumentos: o primeiro é o caminho do arquivo, com seu nome (se apenas o nome do arquivo for passado, isso é interpretado como o arquivo estando na mesma pasta que o código!); e o segundo é o modo de operação. Os modos são:\n",
    "\n",
    "- r -\tlê um arquivo existente\n",
    "- w -\tcria um novo arquivo\n",
    "- a -\tabre um arquivo existente para adicionar informações ao seu final\n",
    "- \\+ -\tao ser combinado com outros modos, permite alteração de arquivo já existente (ex: r+ abre um arquivo existente e permite modificá-lo)\n",
    "\n",
    "O terceiro argumento é o \"encoding\", que dá a codificação do arquivo. Pra evitar problemas, é legal sempre usar `encoding=\"utf-8\"`"
   ]
  },
  {
   "cell_type": "code",
   "execution_count": 5,
   "metadata": {},
   "outputs": [],
   "source": [
    "arquivo = open(\"ola.txt\", \"w\", encoding=\"utf-8\")"
   ]
  },
  {
   "cell_type": "markdown",
   "metadata": {},
   "source": [
    "Se analisarmos a variável \"arquivo\" (é o return da função \"open\"), note que há algumas coisas estranhas... É assim que o python entende seu arquivo, mas não precisa se preocupar muito com isso"
   ]
  },
  {
   "cell_type": "code",
   "execution_count": 6,
   "metadata": {},
   "outputs": [
    {
     "data": {
      "text/plain": [
       "<_io.TextIOWrapper name='ola.txt' mode='w' encoding='utf-8'>"
      ]
     },
     "execution_count": 6,
     "metadata": {},
     "output_type": "execute_result"
    }
   ],
   "source": [
    "arquivo"
   ]
  },
  {
   "cell_type": "markdown",
   "metadata": {},
   "source": [
    "Uma vez aberto o arquivo, podemos escrever alguma coisa nele. Para isso, usamos a função `write()`\n",
    "\n",
    "Essa função aceita apenas um argumento, que é o que vc quer escrever no arquivo"
   ]
  },
  {
   "cell_type": "code",
   "execution_count": 7,
   "metadata": {},
   "outputs": [
    {
     "data": {
      "text/plain": [
       "16"
      ]
     },
     "execution_count": 7,
     "metadata": {},
     "output_type": "execute_result"
    }
   ],
   "source": [
    "arquivo.write(\"olá, mundo!!!!!!\")"
   ]
  },
  {
   "cell_type": "markdown",
   "metadata": {},
   "source": [
    "Após abrirmos (ou criarmos) um arquivo, e fazer as operações desejadas com ele, devemos fechá-lo usando a função `close()`. Essa etapa é importante por 2 motivos:\n",
    "\n",
    "- Se alteramos o arquivo mas não o fechamos, as alterações não serão salvas.\n",
    "- Se esquecermos de fechar um arquivo, outros programas podem ter problemas de acesso a ele.\n",
    "\n",
    "Por isso, **nunca se esqueca de fechar os arquivos abertos!**"
   ]
  },
  {
   "cell_type": "code",
   "execution_count": 8,
   "metadata": {},
   "outputs": [],
   "source": [
    "arquivo.close()"
   ]
  },
  {
   "cell_type": "markdown",
   "metadata": {},
   "source": [
    "__Fazendo todas as operações em uma única célula__"
   ]
  },
  {
   "cell_type": "code",
   "execution_count": 9,
   "metadata": {},
   "outputs": [],
   "source": [
    "f = open(\"ola.txt\", \"w\", encoding=\"utf-8\")\n",
    "\n",
    "f.write(\"olá, andré!\")\n",
    "\n",
    "f.close()"
   ]
  },
  {
   "cell_type": "markdown",
   "metadata": {},
   "source": [
    "Vamos escrever mais algumas coisas no nosso arquivo...\n",
    "\n",
    "Como o arquivo já existe, vamos tentar usar o modo \"r\"..."
   ]
  },
  {
   "cell_type": "code",
   "execution_count": 10,
   "metadata": {},
   "outputs": [
    {
     "ename": "UnsupportedOperation",
     "evalue": "not writable",
     "output_type": "error",
     "traceback": [
      "\u001b[1;31m---------------------------------------------------------------------------\u001b[0m",
      "\u001b[1;31mUnsupportedOperation\u001b[0m                      Traceback (most recent call last)",
      "\u001b[1;32m<ipython-input-10-254c5ccc58de>\u001b[0m in \u001b[0;36m<module>\u001b[1;34m\u001b[0m\n\u001b[0;32m      2\u001b[0m \u001b[0marquivo\u001b[0m \u001b[1;33m=\u001b[0m \u001b[0mopen\u001b[0m\u001b[1;33m(\u001b[0m\u001b[1;34m\"ola.txt\"\u001b[0m\u001b[1;33m,\u001b[0m \u001b[1;34m\"r\"\u001b[0m\u001b[1;33m,\u001b[0m \u001b[0mencoding\u001b[0m\u001b[1;33m=\u001b[0m\u001b[1;34m\"utf-8\"\u001b[0m\u001b[1;33m)\u001b[0m\u001b[1;33m\u001b[0m\u001b[1;33m\u001b[0m\u001b[0m\n\u001b[0;32m      3\u001b[0m \u001b[1;33m\u001b[0m\u001b[0m\n\u001b[1;32m----> 4\u001b[1;33m \u001b[0marquivo\u001b[0m\u001b[1;33m.\u001b[0m\u001b[0mwrite\u001b[0m\u001b[1;33m(\u001b[0m\u001b[1;34m'Minha segunda frase'\u001b[0m\u001b[1;33m)\u001b[0m\u001b[1;33m\u001b[0m\u001b[1;33m\u001b[0m\u001b[0m\n\u001b[0m\u001b[0;32m      5\u001b[0m \u001b[1;33m\u001b[0m\u001b[0m\n\u001b[0;32m      6\u001b[0m \u001b[0marquivo\u001b[0m\u001b[1;33m.\u001b[0m\u001b[0mclose\u001b[0m\u001b[1;33m(\u001b[0m\u001b[1;33m)\u001b[0m\u001b[1;33m\u001b[0m\u001b[1;33m\u001b[0m\u001b[0m\n",
      "\u001b[1;31mUnsupportedOperation\u001b[0m: not writable"
     ]
    }
   ],
   "source": [
    "# como o arquivo já existe, vamos usar o modo de leitura, \"r\"\n",
    "arquivo = open(\"ola.txt\", \"r\", encoding=\"utf-8\")\n",
    "\n",
    "arquivo.write('Minha segunda frase') \n",
    "\n",
    "arquivo.close()"
   ]
  },
  {
   "cell_type": "markdown",
   "metadata": {},
   "source": [
    "Note que encontramos um erro, pois o modo \"r\" permite **apenas a leitura do arquivo**\n",
    "\n",
    "Se queremos escrever algo nele, usamos o \"r+\""
   ]
  },
  {
   "cell_type": "code",
   "execution_count": 11,
   "metadata": {},
   "outputs": [],
   "source": [
    "# modo r+, pra poder escrever no arquivo\n",
    "arquivo = open(\"ola.txt\", \"r+\", encoding=\"utf-8\")\n",
    "\n",
    "arquivo.write('Minha') \n",
    "\n",
    "arquivo.close()\n"
   ]
  },
  {
   "cell_type": "markdown",
   "metadata": {},
   "source": [
    "Note, no entanto, que se usarmos o modo \"r+\", o write substitui o conteúdo anterior da primeira linha do arquivo!\n",
    "\n",
    "Prra corrigir isso, usamos o modo \"a\", que permite escrever AO FIM do arquivo"
   ]
  },
  {
   "cell_type": "code",
   "execution_count": 12,
   "metadata": {},
   "outputs": [],
   "source": [
    "# modo a, pra poder escrever ao fim do arquivo coisas novas\n",
    "arquivo = open(\"ola.txt\", \"a\", encoding=\"utf-8\")\n",
    "\n",
    "arquivo.write('\\nMinha quarta frase') \n",
    "\n",
    "arquivo.close()"
   ]
  },
  {
   "cell_type": "markdown",
   "metadata": {},
   "source": [
    "Se quisermos escrever em uma nova linha, usamos o \"\\n\":"
   ]
  },
  {
   "cell_type": "code",
   "execution_count": 13,
   "metadata": {},
   "outputs": [],
   "source": [
    "# modo a, pra poder escrever ao fim do arquivo coisas novas\n",
    "arquivo = open(\"ola.txt\", \"a\", encoding=\"utf-8\")\n",
    "\n",
    "for i in range(5):\n",
    "    \n",
    "    arquivo.write(str(i) + \" - olá mundo!!\\n\")\n",
    "\n",
    "arquivo.close()"
   ]
  },
  {
   "cell_type": "code",
   "execution_count": 14,
   "metadata": {},
   "outputs": [],
   "source": [
    "nomes = [\"André\", \"João\", \"Maria\"]\n",
    "\n",
    "f = open(\"nomes_2.txt\", \"w\", encoding=\"utf-8\")\n",
    "\n",
    "for item in nomes:\n",
    "    \n",
    "    f.write(item)\n",
    "    f.write(\"\\n\")\n",
    "    \n",
    "f.close()"
   ]
  },
  {
   "cell_type": "markdown",
   "metadata": {},
   "source": [
    "Agora, imagina que queremos apenas **ler** o arquivo, sem intenção de modificá-lo.\n",
    "\n",
    "Nesse caso, utilizamos o modo \"r\" do open.\n",
    "\n",
    "Além disso, se quisermos de fato armazenar os dados do arquivo em uma variável do python, usamos a função `read()`"
   ]
  },
  {
   "cell_type": "code",
   "execution_count": 15,
   "metadata": {},
   "outputs": [],
   "source": [
    "# modo r para a leitura, apenas\n",
    "arquivo = open('ola.txt', 'r', encoding=\"utf-8\")\n",
    "\n",
    "conteudo = arquivo.read()"
   ]
  },
  {
   "cell_type": "code",
   "execution_count": 16,
   "metadata": {},
   "outputs": [
    {
     "data": {
      "text/plain": [
       "'Minha andré!\\nMinha quarta frase0 - olá mundo!!\\n1 - olá mundo!!\\n2 - olá mundo!!\\n3 - olá mundo!!\\n4 - olá mundo!!\\n'"
      ]
     },
     "execution_count": 16,
     "metadata": {},
     "output_type": "execute_result"
    }
   ],
   "source": [
    "conteudo"
   ]
  },
  {
   "cell_type": "code",
   "execution_count": 17,
   "metadata": {},
   "outputs": [
    {
     "data": {
      "text/plain": [
       "['Minha andré!',\n",
       " 'Minha quarta frase0 - olá mundo!!',\n",
       " '1 - olá mundo!!',\n",
       " '2 - olá mundo!!',\n",
       " '3 - olá mundo!!',\n",
       " '4 - olá mundo!!',\n",
       " '']"
      ]
     },
     "execution_count": 17,
     "metadata": {},
     "output_type": "execute_result"
    }
   ],
   "source": [
    "conteudo.split('\\n')"
   ]
  },
  {
   "cell_type": "code",
   "execution_count": 18,
   "metadata": {},
   "outputs": [
    {
     "name": "stdout",
     "output_type": "stream",
     "text": [
      "Minha andré!\n",
      "Minha quarta frase0 - olá mundo!!\n",
      "1 - olá mundo!!\n",
      "2 - olá mundo!!\n",
      "3 - olá mundo!!\n",
      "4 - olá mundo!!\n",
      "\n"
     ]
    }
   ],
   "source": [
    "# modo r para a leitura, apenas\n",
    "arquivo = open('ola.txt', 'r', encoding=\"utf-8\")\n",
    "\n",
    "# lê o conteúdo do arquivo\n",
    "conteudo = arquivo.read()\n",
    "\n",
    "print(conteudo)\n",
    "\n",
    "arquivo.close()"
   ]
  },
  {
   "cell_type": "code",
   "execution_count": 19,
   "metadata": {},
   "outputs": [
    {
     "data": {
      "text/plain": [
       "['Minha andré!',\n",
       " 'Minha quarta frase0 - olá mundo!!',\n",
       " '1 - olá mundo!!',\n",
       " '2 - olá mundo!!',\n",
       " '3 - olá mundo!!',\n",
       " '4 - olá mundo!!',\n",
       " '']"
      ]
     },
     "execution_count": 19,
     "metadata": {},
     "output_type": "execute_result"
    }
   ],
   "source": [
    "conteudo_lista = conteudo.split(\"\\n\")\n",
    "\n",
    "conteudo_lista"
   ]
  },
  {
   "cell_type": "markdown",
   "metadata": {},
   "source": [
    "A função `read()` lê o que estiver no arquivo em forma de uma string!\n",
    "\n",
    "As quebras de linha serão, portanto, armazenadas como \"\\n\"."
   ]
  },
  {
   "cell_type": "markdown",
   "metadata": {},
   "source": [
    "Vamos para um outro exemplo... Imagine que eu quero armazenar uma lista, para depois lê-la novamente. Como faço isso?"
   ]
  },
  {
   "cell_type": "code",
   "execution_count": 20,
   "metadata": {},
   "outputs": [
    {
     "ename": "TypeError",
     "evalue": "write() argument must be str, not list",
     "output_type": "error",
     "traceback": [
      "\u001b[1;31m---------------------------------------------------------------------------\u001b[0m",
      "\u001b[1;31mTypeError\u001b[0m                                 Traceback (most recent call last)",
      "\u001b[1;32m<ipython-input-20-0897ee9aa22e>\u001b[0m in \u001b[0;36m<module>\u001b[1;34m\u001b[0m\n\u001b[0;32m      3\u001b[0m \u001b[0mf\u001b[0m \u001b[1;33m=\u001b[0m \u001b[0mopen\u001b[0m\u001b[1;33m(\u001b[0m\u001b[1;34m\"minhas_notas.txt\"\u001b[0m\u001b[1;33m,\u001b[0m \u001b[1;34m\"w\"\u001b[0m\u001b[1;33m,\u001b[0m \u001b[0mencoding\u001b[0m\u001b[1;33m=\u001b[0m\u001b[1;34m\"utf-8\"\u001b[0m\u001b[1;33m)\u001b[0m\u001b[1;33m\u001b[0m\u001b[1;33m\u001b[0m\u001b[0m\n\u001b[0;32m      4\u001b[0m \u001b[1;33m\u001b[0m\u001b[0m\n\u001b[1;32m----> 5\u001b[1;33m \u001b[0mf\u001b[0m\u001b[1;33m.\u001b[0m\u001b[0mwrite\u001b[0m\u001b[1;33m(\u001b[0m\u001b[0mnotas\u001b[0m\u001b[1;33m)\u001b[0m\u001b[1;33m\u001b[0m\u001b[1;33m\u001b[0m\u001b[0m\n\u001b[0m\u001b[0;32m      6\u001b[0m \u001b[1;33m\u001b[0m\u001b[0m\n\u001b[0;32m      7\u001b[0m \u001b[0mf\u001b[0m\u001b[1;33m.\u001b[0m\u001b[0mclose\u001b[0m\u001b[1;33m(\u001b[0m\u001b[1;33m)\u001b[0m\u001b[1;33m\u001b[0m\u001b[1;33m\u001b[0m\u001b[0m\n",
      "\u001b[1;31mTypeError\u001b[0m: write() argument must be str, not list"
     ]
    }
   ],
   "source": [
    "notas = [8, 7, 6, 10, 10, 8]\n",
    "\n",
    "f = open(\"minhas_notas.txt\", \"w\", encoding=\"utf-8\")\n",
    "\n",
    "f.write(notas) \n",
    "\n",
    "f.close()"
   ]
  },
  {
   "cell_type": "markdown",
   "metadata": {},
   "source": [
    "Só é possível escrever strings com o \"write()\"! Então, vamos ter que modificar um pouco o programa..."
   ]
  },
  {
   "cell_type": "code",
   "execution_count": 22,
   "metadata": {},
   "outputs": [],
   "source": [
    "notas = [8, 7, 5, 6, 4, 6]\n",
    "\n",
    "f = open(\"notas.txt\", \"w\", encoding=\"utf-8\")\n",
    "\n",
    "for elemento in notas:\n",
    "    \n",
    "    f.write(str(elemento) + \"\\n\")\n",
    "    \n",
    "f.close()"
   ]
  },
  {
   "cell_type": "markdown",
   "metadata": {},
   "source": [
    "Agora, pra ler o arquivo, e já calcular a média das notas armazenadas!"
   ]
  },
  {
   "cell_type": "code",
   "execution_count": 23,
   "metadata": {},
   "outputs": [
    {
     "name": "stdout",
     "output_type": "stream",
     "text": [
      "6.0\n"
     ]
    }
   ],
   "source": [
    "f = open(\"notas.txt\", \"r\", encoding=\"utf-8\")\n",
    "\n",
    "string_de_notas = f.read()\n",
    "\n",
    "lista_de_notas = string_de_notas.split('\\n')\n",
    "\n",
    "lista_de_notas.remove(\"\")\n",
    "\n",
    "# usando compreensão de lista (list comprehension)\n",
    "lista_de_inteiros = [float(elementos) for elementos in lista_de_notas]\n",
    "\n",
    "media = sum(lista_de_inteiros)/len(lista_de_inteiros)\n",
    "\n",
    "print(media)\n",
    "\n",
    "f.close()"
   ]
  },
  {
   "cell_type": "markdown",
   "metadata": {},
   "source": [
    "Vamos fazer um arquivo de várias linhas, e depois lê-lo:"
   ]
  },
  {
   "cell_type": "code",
   "execution_count": 24,
   "metadata": {},
   "outputs": [],
   "source": [
    "f = open(\"poema.txt\", \"w\", encoding=\"utf-8\")\n",
    "\n",
    "f.write(\"Batatinha quando nasce,\\n\")\n",
    "f.write(\"espalha a rama pelo chão.\\n\")\n",
    "f.write(\"Menininha quando dorme,\\n\")\n",
    "f.write(\"põe a mão no coração.\")\n",
    "\n",
    "f.close()"
   ]
  },
  {
   "cell_type": "markdown",
   "metadata": {},
   "source": [
    "Lendo o arquivo inteiro"
   ]
  },
  {
   "cell_type": "code",
   "execution_count": 25,
   "metadata": {},
   "outputs": [
    {
     "data": {
      "text/plain": [
       "'Batatinha quando nasce,\\nespalha a rama pelo chão.\\nMenininha quando dorme,\\npõe a mão no coração.'"
      ]
     },
     "execution_count": 25,
     "metadata": {},
     "output_type": "execute_result"
    }
   ],
   "source": [
    "f = open(\"poema.txt\", \"r\", encoding=\"utf-8\")\n",
    "\n",
    "conteudo = f.read()\n",
    "\n",
    "f.close()\n",
    "\n",
    "conteudo"
   ]
  },
  {
   "cell_type": "code",
   "execution_count": 26,
   "metadata": {},
   "outputs": [
    {
     "data": {
      "text/plain": [
       "['Batatinha quando nasce,',\n",
       " 'espalha a rama pelo chão.',\n",
       " 'Menininha quando dorme,',\n",
       " 'põe a mão no coração.']"
      ]
     },
     "execution_count": 26,
     "metadata": {},
     "output_type": "execute_result"
    }
   ],
   "source": [
    "conteudo.split(\"\\n\")"
   ]
  },
  {
   "cell_type": "markdown",
   "metadata": {},
   "source": [
    "Lendo apenas a primeira linha, com a função `readline()`:"
   ]
  },
  {
   "cell_type": "code",
   "execution_count": 27,
   "metadata": {},
   "outputs": [
    {
     "data": {
      "text/plain": [
       "'Batatinha quando nasce,\\n'"
      ]
     },
     "execution_count": 27,
     "metadata": {},
     "output_type": "execute_result"
    }
   ],
   "source": [
    "f = open(\"poema.txt\", \"r\", encoding=\"utf-8\")\n",
    "\n",
    "conteudo = f.readline()\n",
    "\n",
    "f.close()\n",
    "\n",
    "conteudo"
   ]
  },
  {
   "cell_type": "markdown",
   "metadata": {},
   "source": [
    "Ler cada uma das linhas, separadamente\n",
    "\n",
    "Neste caso, não precisa nem de readline!"
   ]
  },
  {
   "cell_type": "code",
   "execution_count": 28,
   "metadata": {},
   "outputs": [
    {
     "name": "stdout",
     "output_type": "stream",
     "text": [
      "['Batatinha quando nasce,\\n', 'espalha a rama pelo chão.\\n', 'Menininha quando dorme,\\n', 'põe a mão no coração.']\n"
     ]
    }
   ],
   "source": [
    "f = open(\"poema.txt\", \"r\", encoding=\"utf-8\")\n",
    "\n",
    "lista = []\n",
    "\n",
    "for x in f:\n",
    "    \n",
    "    lista.append(x)\n",
    "    \n",
    "print(lista)"
   ]
  },
  {
   "cell_type": "code",
   "execution_count": 29,
   "metadata": {},
   "outputs": [
    {
     "data": {
      "text/plain": [
       "['Batatinha quando nasce,\\n',\n",
       " 'espalha a rama pelo chão.\\n',\n",
       " 'Menininha quando dorme,\\n',\n",
       " 'põe a mão no coração.']"
      ]
     },
     "execution_count": 29,
     "metadata": {},
     "output_type": "execute_result"
    }
   ],
   "source": [
    "f = open(\"poema.txt\", \"r\", encoding=\"utf-8\")\n",
    "\n",
    "lista_de_linhas = []\n",
    "\n",
    "# aqui, o python entende que ele deve percorrer cada linha do arquivo!\n",
    "for elemento in f:\n",
    "    \n",
    "    lista_de_linhas.append(elemento)\n",
    "    \n",
    "f.close()\n",
    "\n",
    "lista_de_linhas"
   ]
  },
  {
   "cell_type": "code",
   "execution_count": 30,
   "metadata": {},
   "outputs": [
    {
     "data": {
      "text/plain": [
       "['Batatinha quando nasce,\\n',\n",
       " 'espalha a rama pelo chão.\\n',\n",
       " 'Menininha quando dorme,\\n',\n",
       " 'põe a mão no coração.']"
      ]
     },
     "execution_count": 30,
     "metadata": {},
     "output_type": "execute_result"
    }
   ],
   "source": [
    "# usando compreensão de listas!\n",
    "\n",
    "f = open(\"poema.txt\", \"r\", encoding=\"utf-8\")\n",
    "\n",
    "lista = [x for x in f]\n",
    "\n",
    "lista"
   ]
  },
  {
   "cell_type": "markdown",
   "metadata": {},
   "source": [
    "Apesar de termos tratado sobre as funções acima, existem **bibliotecas específicas** para a leitura/escrita de determinados tipos de arquivos.\n",
    "\n",
    "Na prática, é muito mais conveniente usarmos estas bibliotecas, a depender do tipo de arquivo que desejamos ler/escrever!"
   ]
  },
  {
   "cell_type": "markdown",
   "metadata": {},
   "source": [
    "____\n",
    "____\n",
    "___"
   ]
  },
  {
   "cell_type": "markdown",
   "metadata": {},
   "source": [
    "## 3) Arquivos CSV\n",
    "\n",
    "Um tipo de arquivo muito comum é o **csv**\n",
    "\n",
    "A sigla CSV significa **Comma-Separated Values**, ou **\"valores separados por vírgula\"**. \n",
    "\n",
    "Este formato é uma forma padrão de representar tabelas usando arquivos de texto simples: cada elemento é separado por uma vírgula (ou ponto-e-vírgula, ou, qualquer outro separador), e cada linha é separada por uma quebra de linha. "
   ]
  },
  {
   "cell_type": "markdown",
   "metadata": {},
   "source": [
    "Em Python, podemos entender um arquivo CSV como uma lista de listas. \n",
    "\n",
    "Imagine que queremos armazenar um arquivo csv. Começamos com uma lista de listas:"
   ]
  },
  {
   "cell_type": "code",
   "execution_count": 31,
   "metadata": {},
   "outputs": [],
   "source": [
    "tabela = [['Aluno', 'Nota 1', 'Nota 2', 'Presença'],\n",
    "          ['Luke', 7, 9, 15],\n",
    "          ['Han', 4, 7, 10],\n",
    "          ['Leia', 9, 9, 16]]"
   ]
  },
  {
   "cell_type": "markdown",
   "metadata": {},
   "source": [
    "Pode não ser tão simples escrever esta lista de listas em um arquivo usando a função write(), como vimos antes, né?\n",
    "\n",
    "Para trabalhar com arquivos csv, vamos utilizar a biblioteca `csv` do python!\n",
    "\n",
    "Desta biblioteca, vamo usar duas funções:\n",
    "\n",
    "- **função de escrita**: `csv.writer().writerows()`\n",
    "\n",
    "- **função de escrita**: `csv.reader()`"
   ]
  },
  {
   "cell_type": "code",
   "execution_count": 32,
   "metadata": {},
   "outputs": [],
   "source": [
    "import csv"
   ]
  },
  {
   "cell_type": "markdown",
   "metadata": {},
   "source": [
    "Primeiramente, criamos o arquivo, como fizemos antes"
   ]
  },
  {
   "cell_type": "code",
   "execution_count": 33,
   "metadata": {},
   "outputs": [],
   "source": [
    "# cria o arquivo CSV\n",
    "arquivo = open('alunos_star_wars.csv', 'w', encoding=\"utf-8\")"
   ]
  },
  {
   "cell_type": "markdown",
   "metadata": {},
   "source": [
    "Depois, utilizamos a função \"writer\" da biblioteca \"csv\", juntamente da função \"writerows\" para escrever a lista de listas ao arquivo:"
   ]
  },
  {
   "cell_type": "code",
   "execution_count": 34,
   "metadata": {},
   "outputs": [],
   "source": [
    "csv.writer(arquivo, delimiter=';', lineterminator='\\n').writerows(tabela)"
   ]
  },
  {
   "cell_type": "markdown",
   "metadata": {},
   "source": [
    "A primeira parte, \n",
    "\n",
    "```python\n",
    "csv.writer(arquivo, delimiter=';', lineterminator='\\n')\n",
    "```\n",
    "\n",
    "Indica:\n",
    "\n",
    "- em que arquivo você quer escrever\n",
    "- como que você vai separar os valores (neste caso, com \";\")\n",
    "- como vc vai separar as diferentes linhas do arquivo (neste caso, com \"\\n\")\n",
    "\n",
    "A segunda parte, indica quais os dados que você quer escrever no arquivo (no caso, a lista de listas \"tabela\"):\n",
    "\n",
    "```python\n",
    "writerows(tabela)\n",
    "```"
   ]
  },
  {
   "cell_type": "markdown",
   "metadata": {},
   "source": [
    "Fechando o arquivo"
   ]
  },
  {
   "cell_type": "code",
   "execution_count": 35,
   "metadata": {},
   "outputs": [],
   "source": [
    "arquivo.close()"
   ]
  },
  {
   "cell_type": "markdown",
   "metadata": {},
   "source": [
    "Tudo junto:"
   ]
  },
  {
   "cell_type": "code",
   "execution_count": 36,
   "metadata": {},
   "outputs": [],
   "source": [
    "import csv\n",
    "\n",
    "lista_de_listas = [['Aluno', 'Nota 1', 'Nota 2', 'Presenças'],\n",
    "          ['Luke', 7, 9, 15],\n",
    "          ['Han', 4, 7.7, 10],\n",
    "          ['Leia', 9, 9, 16]]\n",
    "\n",
    "arquivo = open('alunos_star_wars.csv', 'w', encoding=\"utf-8\")\n",
    "\n",
    "csv.writer(arquivo, delimiter=',', lineterminator='\\n').writerows(lista_de_listas)\n",
    "\n",
    "arquivo.close()"
   ]
  },
  {
   "cell_type": "markdown",
   "metadata": {},
   "source": [
    "E como lemos este arquivo?"
   ]
  },
  {
   "cell_type": "markdown",
   "metadata": {},
   "source": [
    "Para isso, temos que utilizar a função `reader()` da biblioteca csv:\n",
    "\n",
    "```python\n",
    "csv.reader(f, delimiter=';', lineterminator='\\n')\n",
    "```\n",
    "\n",
    "Essa função tem como argumentos:\n",
    "\n",
    "- o arquivo aberto (no caso, a variável \"f\");\n",
    "- o separador entre os valores (no caso, \";\");\n",
    "- o separador de linhas (no caso, \"\\n\");\n",
    "\n",
    "Aí, basta iterar neste objeto com o for para popular a lista de listas \"planilha\":"
   ]
  },
  {
   "cell_type": "code",
   "execution_count": 37,
   "metadata": {},
   "outputs": [
    {
     "data": {
      "text/plain": [
       "[['Aluno', 'Nota 1', 'Nota 2', 'Presenças'],\n",
       " ['Luke', '7', '9', '15'],\n",
       " ['Han', '4', '7.7', '10'],\n",
       " ['Leia', '9', '9', '16']]"
      ]
     },
     "execution_count": 37,
     "metadata": {},
     "output_type": "execute_result"
    }
   ],
   "source": [
    "import csv\n",
    "\n",
    "f = open(\"alunos_star_wars.csv\", \"r\", encoding=\"utf-8\")\n",
    "\n",
    "leitor = csv.reader(f, delimiter=',', lineterminator='\\n')\n",
    "\n",
    "planilha = []\n",
    "\n",
    "for linha in leitor:\n",
    "    \n",
    "    planilha.append(linha)\n",
    "    \n",
    "f.close()\n",
    "\n",
    "planilha"
   ]
  },
  {
   "cell_type": "code",
   "execution_count": 38,
   "metadata": {},
   "outputs": [
    {
     "data": {
      "text/plain": [
       "['Luke', 'Han', 'Leia']"
      ]
     },
     "execution_count": 38,
     "metadata": {},
     "output_type": "execute_result"
    }
   ],
   "source": [
    "alunos = []\n",
    "\n",
    "for i in range(1,len(planilha)):\n",
    "    \n",
    "    alunos.append(planilha[i][0])\n",
    "    \n",
    "alunos"
   ]
  },
  {
   "cell_type": "code",
   "execution_count": 39,
   "metadata": {},
   "outputs": [
    {
     "data": {
      "text/plain": [
       "['Nota 1', '7', '4', '9']"
      ]
     },
     "execution_count": 39,
     "metadata": {},
     "output_type": "execute_result"
    }
   ],
   "source": [
    "[item[1] for item in planilha]"
   ]
  },
  {
   "cell_type": "markdown",
   "metadata": {},
   "source": [
    "__Vamos agora processar esse arquivo que acabamos de ler?__\n",
    "\n",
    "Imagina que queremos calcular qual é a média de determinado aluno, a partir do seu nome!\n",
    "\n",
    "Pra fazer isso, usamos **list comprehension** pra fazer uma lista com os nomes dos alunos:"
   ]
  },
  {
   "cell_type": "code",
   "execution_count": 40,
   "metadata": {},
   "outputs": [
    {
     "data": {
      "text/plain": [
       "['Aluno', 'Luke', 'Han', 'Leia']"
      ]
     },
     "execution_count": 40,
     "metadata": {},
     "output_type": "execute_result"
    }
   ],
   "source": [
    "[item[0] for item in planilha]"
   ]
  },
  {
   "cell_type": "markdown",
   "metadata": {},
   "source": [
    "Aí, usamos a função index() pra descobrir qual é o índice nesta lista referente a determinado aluno.\n",
    "\n",
    "Por exemplo, o aluno \"Han\", está na posição de índice 2:"
   ]
  },
  {
   "cell_type": "code",
   "execution_count": 41,
   "metadata": {},
   "outputs": [
    {
     "data": {
      "text/plain": [
       "2"
      ]
     },
     "execution_count": 41,
     "metadata": {},
     "output_type": "execute_result"
    }
   ],
   "source": [
    "[item[0] for item in planilha].index(\"Han\")"
   ]
  },
  {
   "cell_type": "markdown",
   "metadata": {},
   "source": [
    "Agora, basta passar esse índice para a lista de listas (que chamamos de \"planilha\"), pra acessarmos a linha correspondente ao Han:"
   ]
  },
  {
   "cell_type": "code",
   "execution_count": 42,
   "metadata": {},
   "outputs": [
    {
     "data": {
      "text/plain": [
       "['Han', '4', '7.7', '10']"
      ]
     },
     "execution_count": 42,
     "metadata": {},
     "output_type": "execute_result"
    }
   ],
   "source": [
    "planilha[[item[0] for item in planilha].index(\"Han\")]"
   ]
  },
  {
   "cell_type": "markdown",
   "metadata": {},
   "source": [
    "Legal! Agora, sabemos que as posições de índice 1 e 2 **desta lista** são, respectivamente, a nota1 e a nota2! \n",
    "\n",
    "Ou seja, podemos capturar as notas (já as transformando para float!), e aí calcular a média "
   ]
  },
  {
   "cell_type": "code",
   "execution_count": 43,
   "metadata": {},
   "outputs": [
    {
     "data": {
      "text/plain": [
       "5.85"
      ]
     },
     "execution_count": 43,
     "metadata": {},
     "output_type": "execute_result"
    }
   ],
   "source": [
    "nota1 = float(planilha[[item[0] for item in planilha].index(\"Han\")][1])\n",
    "\n",
    "nota2 = float(planilha[[item[0] for item in planilha].index(\"Han\")][2])\n",
    "\n",
    "media = (nota1 + nota2)/2\n",
    "\n",
    "media"
   ]
  },
  {
   "cell_type": "markdown",
   "metadata": {},
   "source": [
    "Vamos agora fazer todas as operações acima, mas solicitando ao usuário a média de qual aluno ele deseja:"
   ]
  },
  {
   "cell_type": "code",
   "execution_count": 44,
   "metadata": {},
   "outputs": [
    {
     "name": "stdout",
     "output_type": "stream",
     "text": [
      "Que aluno? Luke\n",
      "\n",
      "A média do aluno Luke é: 8.0\n"
     ]
    }
   ],
   "source": [
    "aluno = input(\"Que aluno? \")\n",
    "\n",
    "linha_do_aluno = planilha[[item[0] for item in planilha].index(aluno)]\n",
    "\n",
    "media = (float(linha_do_aluno[1]) + float(linha_do_aluno[2]))/2\n",
    "\n",
    "print(\"\\nA média do aluno\", aluno, \"é:\", media)"
   ]
  },
  {
   "cell_type": "markdown",
   "metadata": {},
   "source": [
    "É possíver fazer o **processamento de arquivos** de forma muito mais simples e natural do que foi feito acima, ao utilizarmos uma biblioteca própria para isso: o [pandas](https://pandas.pydata.org/)! Vamos introduzi-la nas aulas seguintes!"
   ]
  },
  {
   "cell_type": "markdown",
   "metadata": {},
   "source": [
    "____\n",
    "____\n",
    "____\n",
    "____"
   ]
  }
 ],
 "metadata": {
  "kernelspec": {
   "display_name": "Python 3",
   "language": "python",
   "name": "python3"
  },
  "language_info": {
   "codemirror_mode": {
    "name": "ipython",
    "version": 3
   },
   "file_extension": ".py",
   "mimetype": "text/x-python",
   "name": "python",
   "nbconvert_exporter": "python",
   "pygments_lexer": "ipython3",
   "version": "3.7.6"
  }
 },
 "nbformat": 4,
 "nbformat_minor": 4
}
