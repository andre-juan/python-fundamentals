{
 "cells": [
  {
   "cell_type": "markdown",
   "metadata": {},
   "source": [
    "# Aula 1 - Tipos de dados, input/output, operadores matemáticos\n",
    "\n",
    "Na aula de hoje, vamos explorar os seguintes tópicos em Python:\n",
    "\n",
    "- 1) Tipos de variáveis;\n",
    "- 2) Comentários;\n",
    "- 3) Saída (output);\n",
    "- 4) Entrada (input);\n",
    "- 5) Operadores Matemáticos;"
   ]
  },
  {
   "cell_type": "markdown",
   "metadata": {},
   "source": [
    "____\n",
    "____\n",
    "____"
   ]
  },
  {
   "cell_type": "markdown",
   "metadata": {},
   "source": [
    "## 1) Tipos de variáveis\n",
    "\n",
    "Em python, temos 4 **tipos** principais de dados básicos"
   ]
  },
  {
   "cell_type": "markdown",
   "metadata": {},
   "source": [
    "~ Tipo **inteiros** (int): são números inteiros, isto é, sem casas decimais.\n",
    "\n",
    "- Ex:\n",
    "    - 1 \n",
    "    - 456\n",
    "    - 124023\n",
    "    - 0\n",
    "    - -2 (números to tipo int podem ser negativos!)\n",
    "\n",
    "No Jupyter, números inteiros são destacados em cor verde clara"
   ]
  },
  {
   "cell_type": "markdown",
   "metadata": {},
   "source": [
    "Exemplo: a idade de uma pessoa em anos, número de filhos de uma pessoa, etc."
   ]
  },
  {
   "cell_type": "code",
   "execution_count": 1,
   "metadata": {},
   "outputs": [],
   "source": [
    "numero_de_filhos = 3"
   ]
  },
  {
   "cell_type": "code",
   "execution_count": 2,
   "metadata": {},
   "outputs": [
    {
     "data": {
      "text/plain": [
       "3"
      ]
     },
     "execution_count": 2,
     "metadata": {},
     "output_type": "execute_result"
    }
   ],
   "source": [
    "numero_de_filhos"
   ]
  },
  {
   "cell_type": "markdown",
   "metadata": {},
   "source": [
    "~ Tipo **float** (float): são números com casas decimais (**em python usamos ponto ao invés de vírgula para indicar cadas decimais!**)\n",
    "\n",
    "- Ex:\n",
    "    - 3.1415\n",
    "    - 1.78\n",
    "    - 10.0 (essa é a representação float de um número inteiro, 10) \n",
    "    - -42.73 (números do tipo float podem ser negativos!)\n",
    "\n",
    "No Jupyter, números float também são destacados em cor verde clara"
   ]
  },
  {
   "cell_type": "markdown",
   "metadata": {},
   "source": [
    "Exemplo: a altura de uma pessoa em metros"
   ]
  },
  {
   "cell_type": "code",
   "execution_count": 3,
   "metadata": {},
   "outputs": [
    {
     "data": {
      "text/plain": [
       "1.78"
      ]
     },
     "execution_count": 3,
     "metadata": {},
     "output_type": "execute_result"
    }
   ],
   "source": [
    "altura = 1.78\n",
    "\n",
    "altura"
   ]
  },
  {
   "cell_type": "markdown",
   "metadata": {},
   "source": [
    "~ Tipo **string** (str): são textos, que devem ser indicados entre aspas duplas \" \" ou aspas simples ' ' \n",
    "\n",
    "- Ex:\n",
    "    - \"Olá, mundo!\" (para strings, podemos usar pontuação e acentuação sem problemas!)\n",
    "    - \"Nos encontramos às 9h30 amanhã?\" (strings podem conter numeros!)\n",
    "    - \"100\" (neste caso, é uma string que representa um numero inteiro)\n",
    "    - \"3.1415\" (neste caso, é uma string que representa um numero float)\n",
    "\n",
    "No Jupyter, strings são destacadas em cor vermelha"
   ]
  },
  {
   "cell_type": "markdown",
   "metadata": {},
   "source": [
    "Exemplo: uma frase de despedida e um encontro marcado"
   ]
  },
  {
   "cell_type": "code",
   "execution_count": 4,
   "metadata": {},
   "outputs": [
    {
     "data": {
      "text/plain": [
       "'André'"
      ]
     },
     "execution_count": 4,
     "metadata": {},
     "output_type": "execute_result"
    }
   ],
   "source": [
    "nome = \"André\"\n",
    "\n",
    "nome"
   ]
  },
  {
   "cell_type": "markdown",
   "metadata": {},
   "source": [
    "~ Tipo **booleanos** (bool): Verdadeiro (True) ou Falso (False)\n",
    "\n",
    "- Únicos dois valores possíveis: **True** ou **False**\n",
    "\n",
    "Vamos entender a enorme importância deste tipo de dado mais a frente no curso (operações lógicas, estruturas condicionais, etc.)\n",
    "\n",
    "No Jupyter, bools são destacados em cor verde escuro"
   ]
  },
  {
   "cell_type": "code",
   "execution_count": 5,
   "metadata": {},
   "outputs": [
    {
     "data": {
      "text/plain": [
       "False"
      ]
     },
     "execution_count": 5,
     "metadata": {},
     "output_type": "execute_result"
    }
   ],
   "source": [
    "True\n",
    "\n",
    "False"
   ]
  },
  {
   "cell_type": "markdown",
   "metadata": {},
   "source": [
    "____\n",
    "____\n",
    "____"
   ]
  },
  {
   "cell_type": "markdown",
   "metadata": {},
   "source": [
    "## 2) Comentários\n",
    "\n",
    "São utilizados para melhor explicar um trecho de código.\n",
    "\n",
    "Os comentários não são executados pelo Python. \n",
    "\n",
    "Tudo o que está comentado é ignorado, serve apenas para guiar o usuário.\n",
    "\n",
    "É indicado com o uso da #, e em cor azul marinho no Jupyter\n",
    "\n",
    "- Atalho: CTRL + / : A LINHA VIRA UM COMENTÁRIO"
   ]
  },
  {
   "cell_type": "code",
   "execution_count": 6,
   "metadata": {},
   "outputs": [],
   "source": [
    "# definindo uma variavel que aramzena altura\n",
    "\n",
    "altura = 1.80  \n",
    "\n",
    "# print(altura)"
   ]
  },
  {
   "cell_type": "markdown",
   "metadata": {},
   "source": [
    "Embora você possa fazer comentários de várias linhas apenas colocando o # na frente de cada linha:"
   ]
  },
  {
   "cell_type": "code",
   "execution_count": 7,
   "metadata": {},
   "outputs": [],
   "source": [
    "# esse é um comentário muito grande, e por isso pode ser interessante\n",
    "# quebrar ele em várias linhas, para ficar mais fácil de ler\n",
    "# um comentário grande e complexo como esse no meio do código"
   ]
  },
  {
   "cell_type": "markdown",
   "metadata": {},
   "source": [
    "Também é possível fazer comentários de várias linhas utilizando três aspas:"
   ]
  },
  {
   "cell_type": "code",
   "execution_count": 8,
   "metadata": {},
   "outputs": [
    {
     "data": {
      "text/plain": [
       "'\\nesse é um comentário muito grande, e por isso pode ser interessante\\nquebrar ele em várias linhas, para ficar mais fácil de ler\\num comentário grande e complexo como esse no meio do código\\n\\n'"
      ]
     },
     "execution_count": 8,
     "metadata": {},
     "output_type": "execute_result"
    }
   ],
   "source": [
    "\"\"\"\n",
    "esse é um comentário muito grande, e por isso pode ser interessante\n",
    "quebrar ele em várias linhas, para ficar mais fácil de ler\n",
    "um comentário grande e complexo como esse no meio do código\n",
    "\n",
    "\"\"\""
   ]
  },
  {
   "cell_type": "markdown",
   "metadata": {},
   "source": [
    "Note que estes \"comentários\" feitos com 3 aspas na verdade são strings de muitas linhas: mas o Python irá ignorá-las caso elas não sejá atribuídas a uma variável, funcionando, assim, como comentário.\n",
    "\n",
    "De qualquer forma, o modo acima, com um # em casa linha é preferível!"
   ]
  },
  {
   "cell_type": "markdown",
   "metadata": {},
   "source": [
    "____\n",
    "____\n",
    "____"
   ]
  },
  {
   "cell_type": "markdown",
   "metadata": {},
   "source": [
    "## 3) Saída (output)\n",
    "\n",
    "É como o computador **apresenta dados de saída** para um usuário.\n",
    "\n",
    "Utilizamos a função print() para exibir o conteúdo na tela"
   ]
  },
  {
   "cell_type": "code",
   "execution_count": 9,
   "metadata": {},
   "outputs": [
    {
     "name": "stdout",
     "output_type": "stream",
     "text": [
      "André, tudo bem?\n"
     ]
    }
   ],
   "source": [
    "# definição de uma string\n",
    "nome = \"André, tudo bem?\"\n",
    "\n",
    "# função que exibe para o usuário o que foi pedido\n",
    "print(nome)"
   ]
  },
  {
   "cell_type": "markdown",
   "metadata": {},
   "source": [
    "Podemos imprimir diversas strings ou diversas variáveis em sequência, utilizando vírgula para separá-las dentro do print:"
   ]
  },
  {
   "cell_type": "code",
   "execution_count": 10,
   "metadata": {},
   "outputs": [
    {
     "name": "stdout",
     "output_type": "stream",
     "text": [
      "50 cinquenta\n"
     ]
    }
   ],
   "source": [
    "# definindo uma variavel do tipo inteiro\n",
    "numero = 50\n",
    "\n",
    "# definindo uma string\n",
    "nome_do_numero = \"cinquenta\"\n",
    "\n",
    "# exibindo as duas variáveis acima após uma outra string\n",
    "print(numero, nome_do_numero)"
   ]
  },
  {
   "cell_type": "code",
   "execution_count": 11,
   "metadata": {},
   "outputs": [
    {
     "name": "stdout",
     "output_type": "stream",
     "text": [
      "50 cinquenta lablabala\n"
     ]
    }
   ],
   "source": [
    "print(50, \"cinquenta\", \"lablabala\")"
   ]
  },
  {
   "cell_type": "markdown",
   "metadata": {},
   "source": [
    "Um caractere especial do print é o \"\\n\", que serve para fazer a quebra de linha:"
   ]
  },
  {
   "cell_type": "code",
   "execution_count": 12,
   "metadata": {},
   "outputs": [
    {
     "name": "stdout",
     "output_type": "stream",
     "text": [
      "ola\n",
      "mundo\n"
     ]
    }
   ],
   "source": [
    "print(\"ola\\nmundo\")"
   ]
  },
  {
   "cell_type": "markdown",
   "metadata": {},
   "source": [
    "____\n",
    "____\n",
    "___"
   ]
  },
  {
   "cell_type": "markdown",
   "metadata": {},
   "source": [
    "## 4) Entrada (input)\n",
    "\n",
    "É como o computador **coleta dados de entrada** de um usuário através do teclado.\n",
    "\n",
    "Utilizamos a função input() para receber os dados do usuário, que deve digitá-los\n",
    "\n",
    "Opcionalmente, podemos colocar uma frase de instrução ao usuário na função input, dentro dos parênteses"
   ]
  },
  {
   "cell_type": "code",
   "execution_count": 13,
   "metadata": {},
   "outputs": [
    {
     "name": "stdout",
     "output_type": "stream",
     "text": [
      "Qual é o seu nome? André\n",
      "\n",
      "Olá, André\n"
     ]
    }
   ],
   "source": [
    "# recebo os dados do usuário através da função input,\n",
    "# e armazeno o resultado na variável \"meu_nome\"\n",
    "\n",
    "nome = input(\"Qual é o seu nome? \")\n",
    "\n",
    "print(\"\\nOlá,\", nome)"
   ]
  },
  {
   "cell_type": "markdown",
   "metadata": {},
   "source": [
    "__IMPORTANTE: a função input() toma o que o usuário digitou como uma string! Se o usuário digitar algum número, e algum cálculo for feito com esse número, o número deve ser transformado em int ou float!__\n",
    "\n",
    "A melhor forma de fazer isso, é já transformar o resultado da função input em float.\n",
    "\n",
    "Fazemos isso com uma espécie de sanduíche, colocando a função input() dentro da função float(), que transforma uma string em um float!\n",
    "\n",
    "OBS: é melhor transformar o input em float ao invés de int, pois o float é um tipo numérico mais genérico, apesar de ocupar (um pouco) mais memória"
   ]
  },
  {
   "cell_type": "code",
   "execution_count": 14,
   "metadata": {},
   "outputs": [
    {
     "name": "stdout",
     "output_type": "stream",
     "text": [
      "Qual é sua altura? 1.80\n"
     ]
    },
    {
     "data": {
      "text/plain": [
       "1.8"
      ]
     },
     "execution_count": 14,
     "metadata": {},
     "output_type": "execute_result"
    }
   ],
   "source": [
    "altura = float(input(\"Qual é sua altura? \"))\n",
    "\n",
    "altura"
   ]
  },
  {
   "cell_type": "code",
   "execution_count": 15,
   "metadata": {},
   "outputs": [
    {
     "name": "stdout",
     "output_type": "stream",
     "text": [
      "Me fala o primeiro numero 40\n",
      "Me fala o segundo numero 2\n",
      "\n",
      "A soma dos números 40.0 e 2.0 é: 42.0\n"
     ]
    }
   ],
   "source": [
    "# pede dois números ao usuário, e já os transforma em float\n",
    "num1 = float(input(\"Me fala o primeiro numero \"))\n",
    "\n",
    "num2 = float(input(\"Me fala o segundo numero \"))\n",
    "\n",
    "# calcula a soma dos dois números\n",
    "soma = num1 + num2\n",
    "\n",
    "print(\"\\nA soma dos números\", num1, \"e\" , num2, \"é:\", round(soma, 1))"
   ]
  },
  {
   "cell_type": "code",
   "execution_count": 16,
   "metadata": {},
   "outputs": [
    {
     "data": {
      "text/plain": [
       "42.0"
      ]
     },
     "execution_count": 16,
     "metadata": {},
     "output_type": "execute_result"
    }
   ],
   "source": [
    "num1 + num2"
   ]
  },
  {
   "cell_type": "markdown",
   "metadata": {},
   "source": [
    "____\n",
    "____\n",
    "____"
   ]
  },
  {
   "cell_type": "markdown",
   "metadata": {},
   "source": [
    "## 5) Operadores Matemáticos\n",
    "\n",
    "Em Python, temos as principais operações matemáticas, com os respectivos símbolos:\n",
    "\n",
    "- soma: (+)\n",
    "\n",
    "- subtração: (-)\n",
    "\n",
    "- multiplicação: (*)\n",
    "\n",
    "- divisão: (/)\n",
    "\n",
    "- potência: (**)\n",
    "\n",
    "Além disso, temos duas operações especiais:\n",
    "\n",
    "- divisão inteira: (//) retorna a parte inteira da divisão entre dois números\n",
    "\n",
    "- resto da divisão: (%) se lê \"mod\", e retorna o resto da divisão entre dois números"
   ]
  },
  {
   "cell_type": "code",
   "execution_count": 17,
   "metadata": {},
   "outputs": [
    {
     "name": "stdout",
     "output_type": "stream",
     "text": [
      "4\n"
     ]
    }
   ],
   "source": [
    "soma = 2+2\n",
    "\n",
    "print(soma)"
   ]
  },
  {
   "cell_type": "code",
   "execution_count": 18,
   "metadata": {},
   "outputs": [
    {
     "name": "stdout",
     "output_type": "stream",
     "text": [
      "2\n"
     ]
    }
   ],
   "source": [
    "subtracao = 5-3\n",
    "\n",
    "print(subtracao)"
   ]
  },
  {
   "cell_type": "code",
   "execution_count": 19,
   "metadata": {},
   "outputs": [
    {
     "name": "stdout",
     "output_type": "stream",
     "text": [
      "12\n"
     ]
    }
   ],
   "source": [
    "multiplicacao = 4*3\n",
    "\n",
    "print(multiplicacao)"
   ]
  },
  {
   "cell_type": "code",
   "execution_count": 20,
   "metadata": {},
   "outputs": [
    {
     "name": "stdout",
     "output_type": "stream",
     "text": [
      "3.0\n"
     ]
    }
   ],
   "source": [
    "divisao = 9/3\n",
    "\n",
    "print(divisao)"
   ]
  },
  {
   "cell_type": "code",
   "execution_count": 21,
   "metadata": {},
   "outputs": [
    {
     "name": "stdout",
     "output_type": "stream",
     "text": [
      "8\n"
     ]
    }
   ],
   "source": [
    "potencia = 2**3\n",
    "\n",
    "print(potencia)"
   ]
  },
  {
   "cell_type": "code",
   "execution_count": 22,
   "metadata": {},
   "outputs": [
    {
     "name": "stdout",
     "output_type": "stream",
     "text": [
      "2.3333333333333335\n"
     ]
    }
   ],
   "source": [
    "divisao_nao_inteira = 7/3\n",
    "\n",
    "print(divisao_nao_inteira)"
   ]
  },
  {
   "cell_type": "code",
   "execution_count": 23,
   "metadata": {},
   "outputs": [
    {
     "name": "stdout",
     "output_type": "stream",
     "text": [
      "2\n"
     ]
    }
   ],
   "source": [
    "divisao_inteira = 7//3\n",
    "\n",
    "print(divisao_inteira)"
   ]
  },
  {
   "cell_type": "code",
   "execution_count": 24,
   "metadata": {},
   "outputs": [
    {
     "name": "stdout",
     "output_type": "stream",
     "text": [
      "1\n"
     ]
    }
   ],
   "source": [
    "resto_da_divisao = 7 % 3\n",
    "\n",
    "print(resto_da_divisao)"
   ]
  },
  {
   "cell_type": "code",
   "execution_count": 25,
   "metadata": {},
   "outputs": [
    {
     "name": "stdout",
     "output_type": "stream",
     "text": [
      "raio: 2\n",
      "12.56\n"
     ]
    }
   ],
   "source": [
    "raio = float(input(\"raio: \"))\n",
    "\n",
    "area = 3.14 * (raio ** 2)\n",
    "\n",
    "print(area)"
   ]
  },
  {
   "cell_type": "markdown",
   "metadata": {},
   "source": [
    "OBS: o principal uso do operador resto da divisão (%) é para avaliar se um número é par ou impar:\n",
    "\n",
    "- se o resto da divisão de um número por 2 **É ZERO**, ele é par;\n",
    "- se o resto da divisão de um número por 2 **É UM**, ele é ímpar;\n"
   ]
  }
 ],
 "metadata": {
  "kernelspec": {
   "display_name": "Python 3",
   "language": "python",
   "name": "python3"
  },
  "language_info": {
   "codemirror_mode": {
    "name": "ipython",
    "version": 3
   },
   "file_extension": ".py",
   "mimetype": "text/x-python",
   "name": "python",
   "nbconvert_exporter": "python",
   "pygments_lexer": "ipython3",
   "version": "3.7.6"
  }
 },
 "nbformat": 4,
 "nbformat_minor": 4
}
