{
 "cells": [
  {
   "cell_type": "markdown",
   "metadata": {},
   "source": [
    "# Aula 0 - Introdução, Jupyter e variáveis\n",
    "\n",
    "Na aula de hoje, vamos explorar os seguintes tópicos em Python:\n",
    "\n",
    "- 1) Introdução: Jupyter;\n",
    "- 2) Primeiro programa em Python;\n",
    "- 3) Variáveis.\n",
    "\n",
    "_____________\n",
    "\n",
    "\n",
    "### Instalação do Anaconda:\n",
    "O anaconda é uma distribuição das linguagens Python e R para a computação científica, sendo amplamente utilizada no mundo de Data Science (mas não se restringindo apenas a isso). Para instalá-la, baixe a versão mais recente na [página de downloads](https://www.anaconda.com/distribution/) do site. Essa distribuição já contém grande parte dos módulos (bibliotecas) Python que usaremos em aula.\n",
    "\n",
    "O curso também pode ser seguido instalando cada biblioteca manualmente com o `pip`.\n",
    "\n",
    "### Jupyter\n",
    "Você pode encontrar uma introdução ao Jupyter Notebook [aqui](https://letscode-academy.com/blog/introducao-ao-jupyter-notebook/).\n"
   ]
  },
  {
   "cell_type": "markdown",
   "metadata": {},
   "source": [
    "_________\n",
    "_________\n",
    "_________"
   ]
  },
  {
   "cell_type": "markdown",
   "metadata": {},
   "source": [
    "## 1) Introdução: Jupyter\n",
    "\n",
    "### Alguns atalhos\n",
    "\n",
    "Pra usar o Jupyter de forma fluida e rápida, é importante utilizarmos alguns atalhos do teclado.\n",
    "\n",
    "Existem muitos atalhos (eles podem ser consultados no menu acima, em **Help >> Keyboard Shortcuts**), mas os pricipais utilizados são:\n",
    "\n",
    "- CTRL + ENTER ou SHIFT + ENTER: executa a célula;\n",
    "- ESC: deixa a célula em modo de comando (azul);\n",
    "- ESC e depois M: transforma a célula em célula de texto (markdown);\n",
    "- ESC e depois Y: transforma a célula em célula de código;\n",
    "- ESC e depois DD: apaga a célula;\n",
    "- ESC e depois A: (ABOVE) - cria uma célula acima da célula atual;\n",
    "- ESC e depois B: (BELOW) - cria uma célula abaixo da célula atual;"
   ]
  },
  {
   "cell_type": "markdown",
   "metadata": {},
   "source": [
    "_________\n",
    "_________\n",
    "_____________"
   ]
  },
  {
   "cell_type": "markdown",
   "metadata": {},
   "source": [
    "## 2) Primeiro programa em Python\n",
    "\n",
    "Tradicionalmente, o primeiro programa feito em uma nova linguagem de programação consiste em exibir a frase \"Olá, mundo!\" na tela.\n",
    "\n",
    "Vamos fazer isso em Python?\n",
    "\n",
    "Para isso, basta utilizar a função `print()`, e indicar o texto a ser exibido entre aspas: \"Olá, mundo!\""
   ]
  },
  {
   "cell_type": "code",
   "execution_count": 1,
   "metadata": {},
   "outputs": [
    {
     "name": "stdout",
     "output_type": "stream",
     "text": [
      "Olá, mundo!\n"
     ]
    }
   ],
   "source": [
    "print(\"Olá, mundo!\")"
   ]
  },
  {
   "cell_type": "markdown",
   "metadata": {},
   "source": [
    "Parabéns! Seu primeiro programa em Python foi executado com sucesso!"
   ]
  },
  {
   "cell_type": "markdown",
   "metadata": {},
   "source": [
    "_________\n",
    "_________"
   ]
  },
  {
   "cell_type": "markdown",
   "metadata": {},
   "source": [
    "Depois vamos falar melhor sobre operações matemáticas em Python, mas podemos exibir o resultado de algumas operações simples usando a funçao print()\n",
    "\n",
    "Note que as instruções são executadas __na ordem em que aparecem!__"
   ]
  },
  {
   "cell_type": "code",
   "execution_count": 2,
   "metadata": {},
   "outputs": [
    {
     "name": "stdout",
     "output_type": "stream",
     "text": [
      "1\n",
      "350\n",
      "4\n"
     ]
    }
   ],
   "source": [
    "print(2-1)\n",
    "print(35*10)\n",
    "print(2+2)"
   ]
  },
  {
   "cell_type": "markdown",
   "metadata": {},
   "source": [
    "O jupyter nos permite também examinar o valor de uma expressão sem a necessidade de usar o print()\n",
    "\n",
    "Mas note que logo abaixo do código, aparece um \"Out[]\", o que não acontece quando usamos a função print()\n",
    "\n",
    "Esse é um jeito de \"espiar\" o output das operações do Python de forma direta!"
   ]
  },
  {
   "cell_type": "code",
   "execution_count": 3,
   "metadata": {},
   "outputs": [
    {
     "data": {
      "text/plain": [
       "4"
      ]
     },
     "execution_count": 3,
     "metadata": {},
     "output_type": "execute_result"
    }
   ],
   "source": [
    "2+2"
   ]
  },
  {
   "cell_type": "markdown",
   "metadata": {},
   "source": [
    "Outra coisa importante é que o Jupyter só permite examinar o valor da **última** expressão no código:"
   ]
  },
  {
   "cell_type": "code",
   "execution_count": 4,
   "metadata": {},
   "outputs": [
    {
     "data": {
      "text/plain": [
       "4"
      ]
     },
     "execution_count": 4,
     "metadata": {},
     "output_type": "execute_result"
    }
   ],
   "source": [
    "2-1\n",
    "35*10\n",
    "2+2"
   ]
  },
  {
   "cell_type": "markdown",
   "metadata": {},
   "source": [
    "_________\n",
    "_________\n",
    "__________"
   ]
  },
  {
   "cell_type": "markdown",
   "metadata": {},
   "source": [
    "## 3) Variáveis\n",
    "\n",
    "Seria legal se pudéssemos **guardar** o valor das operações matemáticas que fizemos acima, não é mesmo?\n",
    "\n",
    "Isso é possível com o uso das **variáveis**, que são um pedacinho da memória onde armazenamos as operações do Python\n",
    "\n",
    "\n",
    "Uma variável pode legar qualquer nome, mas existem algumas regras:\n",
    "\n",
    "- O Python **diferencia** maiúscula de minúscula (ex: \"variavel\" é diferente de \"Variavel\", \"VaRiAvEl\" ou \"VARIAVEL\")\n",
    "    - Dica: melhor usar letras minúsculas pra nomes de variáveis\n",
    "- O nome das variáveis **não** pode ter espaço! Use um underline ao invés de espaço: \"minha_variavel\" ao invés de \"minha variavel\"\n",
    "- É melhor que o nome da variável **não** tenha acento (ex: não usar o nome \"variável\")\n",
    "- Existem algumas palavras reservadas do Python, que **não** podem ser usadas como nome de variável, ex: and, or, if, else, lambda, etc.\n",
    "- Também **não** use nome de funções para variáveis (ex: print)\n",
    "- Dica geral: o nome de variavel fica preto em python!\n",
    "    - Se o nome que você for dar ficar colorido, melhor escolher outro nome!"
   ]
  },
  {
   "cell_type": "markdown",
   "metadata": {},
   "source": [
    "### Criando três variaveis\n",
    "\n",
    "Agora, vamos criar três variáveis para armazenar os calores dos cálculos matemáticos\n",
    "\n",
    "__IMPORTANTE (dica): O sinal \"=\" é lido como \"recebe\", pois o que estamos fazendo é guardando o valor da operação matemática no pedacinho de memória com o nome da variável, então o pedacinho de memória recebe o valor indicado depois do sinal de \"=\"__\n",
    "\n",
    "Ou seja, lemos o código a seguir como:\n",
    "\n",
    "- A variável que demos o nome de \"meu_numero\", **recebe** o valor da operação \"2+3\" (que é 5);\n",
    "- A variável que demos o nome de \"variavel\", **recebe** o valor da operação \"1+1\" (que é 2);\n",
    "- A variável que demos o nome de \"x\", **recebe** o valor da operação \"2*3\" (que é 6);\n",
    "\n",
    "O código a seguir apenas cria as variáveis: note que não há nenhum output!"
   ]
  },
  {
   "cell_type": "code",
   "execution_count": 5,
   "metadata": {},
   "outputs": [],
   "source": [
    "meu_numero = 3+2\n",
    "variavel = 1+1\n",
    "x = 3*2"
   ]
  },
  {
   "cell_type": "markdown",
   "metadata": {},
   "source": [
    "Para examinarmos o valor armazenado nas variáveis, podemos, individualmente, \"chamar\" a variável na célula:"
   ]
  },
  {
   "cell_type": "code",
   "execution_count": 6,
   "metadata": {},
   "outputs": [
    {
     "data": {
      "text/plain": [
       "6"
      ]
     },
     "execution_count": 6,
     "metadata": {},
     "output_type": "execute_result"
    }
   ],
   "source": [
    "x"
   ]
  },
  {
   "cell_type": "code",
   "execution_count": 7,
   "metadata": {},
   "outputs": [
    {
     "data": {
      "text/plain": [
       "2"
      ]
     },
     "execution_count": 7,
     "metadata": {},
     "output_type": "execute_result"
    }
   ],
   "source": [
    "variavel"
   ]
  },
  {
   "cell_type": "code",
   "execution_count": 8,
   "metadata": {},
   "outputs": [
    {
     "data": {
      "text/plain": [
       "5"
      ]
     },
     "execution_count": 8,
     "metadata": {},
     "output_type": "execute_result"
    }
   ],
   "source": [
    "meu_numero"
   ]
  },
  {
   "cell_type": "markdown",
   "metadata": {},
   "source": [
    "Se quisermos exibir o valor das 3 variáveis em seguida, podemos usar o print\n",
    "\n",
    "Note que de fato são exibidos os **valores armazenados nas variáveis!!**"
   ]
  },
  {
   "cell_type": "code",
   "execution_count": 9,
   "metadata": {},
   "outputs": [
    {
     "name": "stdout",
     "output_type": "stream",
     "text": [
      "5\n",
      "2\n",
      "6\n"
     ]
    }
   ],
   "source": [
    "print(meu_numero)\n",
    "print(variavel)\n",
    "print(x)"
   ]
  },
  {
   "cell_type": "markdown",
   "metadata": {},
   "source": [
    "Como o próprio nome diz, variáveis podem variar, ou seja, eu posso mudar o valor que tá armazenado na variável.\n",
    "\n",
    "Se, por exemplo, eu quiser que a variável \"x\" passe a receber o valor \"42\", eu faço simplesmente o código a seguir, que é lido como \"a variável x recebe o valor 42\"."
   ]
  },
  {
   "cell_type": "code",
   "execution_count": 10,
   "metadata": {},
   "outputs": [],
   "source": [
    "x = 42"
   ]
  },
  {
   "cell_type": "markdown",
   "metadata": {},
   "source": [
    "Após fazer isso, o valor anterior (6), é completamente esquecido, e a variável x agora tem apenas o valor 42.\n",
    "\n",
    "Chamando a variável:"
   ]
  },
  {
   "cell_type": "code",
   "execution_count": 11,
   "metadata": {},
   "outputs": [
    {
     "data": {
      "text/plain": [
       "42"
      ]
     },
     "execution_count": 11,
     "metadata": {},
     "output_type": "execute_result"
    }
   ],
   "source": [
    "x"
   ]
  },
  {
   "cell_type": "markdown",
   "metadata": {},
   "source": [
    "_________\n",
    "_________"
   ]
  }
 ],
 "metadata": {
  "kernelspec": {
   "display_name": "Python 3",
   "language": "python",
   "name": "python3"
  },
  "language_info": {
   "codemirror_mode": {
    "name": "ipython",
    "version": 3
   },
   "file_extension": ".py",
   "mimetype": "text/x-python",
   "name": "python",
   "nbconvert_exporter": "python",
   "pygments_lexer": "ipython3",
   "version": "3.7.6"
  }
 },
 "nbformat": 4,
 "nbformat_minor": 4
}
